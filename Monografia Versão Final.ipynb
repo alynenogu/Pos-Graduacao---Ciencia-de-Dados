{
 "cells": [
  {
   "cell_type": "code",
   "execution_count": null,
   "metadata": {},
   "outputs": [],
   "source": [
    "#################Importação das Bibliotecas#########################"
   ]
  },
  {
   "cell_type": "code",
   "execution_count": 1,
   "metadata": {},
   "outputs": [],
   "source": [
    "############importação de biblioteca para análise de dados e manipulação############\n",
    "import numpy as np\n",
    "import pandas as pd\n",
    "###############Importação da bibliotecas para gráficos##############################\n",
    "from matplotlib import pyplot as plt\n",
    "from matplotlib import rcParams\n",
    "import seaborn as sns\n",
    "################Importação das bibliotecas do Modelo de Machine Learning################\n",
    "from sklearn.linear_model import LinearRegression\n",
    "from sklearn.model_selection import train_test_split\n",
    "from sklearn import metrics as m\n",
    "from sklearn.metrics import accuracy_score \n",
    "from sklearn.neural_network import MLPRegressor\n",
    "from sklearn import svm\n",
    "from sklearn.model_selection import cross_val_score\n",
    "from sklearn.model_selection import KFold\n"
   ]
  },
  {
   "cell_type": "code",
   "execution_count": 2,
   "metadata": {},
   "outputs": [],
   "source": [
    "#######################Carregando dados###############################\n",
    "##########Dados queimadas - Para os Estados da Amazônia Legal######\n",
    "url_areas_queimadas = 'https://drive.google.com/file/d/1vRVra-yLlZxknweY-6YIQQJjWCqK75mT/view?usp=sharing'\n",
    "url_areas_queimadas='https://drive.google.com/uc?id=' + url_areas_queimadas.split('/')[-2]\n",
    "\n",
    "##########Dados queimadas - Para os Outros Estados##########\n",
    "url_queimadas_mais_estados = 'https://drive.google.com/file/d/1VdFxMxEWzUuqYLTfv2grmFD2tDRdOez-/view?usp=sharing'\n",
    "url_queimadas_mais_estados='https://drive.google.com/uc?id=' + url_queimadas_mais_estados.split('/')[-2]\n",
    "\n",
    "##########Dados sobre Desmatamento - Amazônia Legal##########\n",
    "url_areas_desmatadas = 'https://drive.google.com/file/d/1gF9JQPHV7dbviqLl8Z-MY_C8iyF1OREd/view?usp=sharing'\n",
    "url_areas_desmatadas='https://drive.google.com/uc?id=' + url_areas_desmatadas.split('/')[-2]\n"
   ]
  },
  {
   "cell_type": "code",
   "execution_count": 8,
   "metadata": {},
   "outputs": [],
   "source": [
    "tabela_areas_queimadas,tabela_areas_queimadas_mais_estados,tabela_areas_desmatadas = importa_dados(url_areas_queimadas,url_queimadas_mais_estados,url_areas_desmatadas)"
   ]
  },
  {
   "cell_type": "code",
   "execution_count": 11,
   "metadata": {},
   "outputs": [],
   "source": [
    "#Definir dados"
   ]
  },
  {
   "cell_type": "code",
   "execution_count": 9,
   "metadata": {},
   "outputs": [],
   "source": [
    "def importa_dados():\n",
    "    tabela_areas_queimadas = pd.read_csv(url_areas_queimadas)\n",
    "    tabela_areas_queimadas_mais_estados = pd.read_csv(url_queimadas_mais_estados,encoding='latin-1')\n",
    "    tabela_areas_desmatadas = pd.read_csv(url_areas_desmatadas,encoding='latin-1')\n",
    "    return tabela_areas_queimadas,tabela_areas_queimadas_mais_estados,tabela_areas_desmatadas"
   ]
  },
  {
   "cell_type": "code",
   "execution_count": null,
   "metadata": {},
   "outputs": [],
   "source": [
    "#############Analises dos Dataframes##############################"
   ]
  },
  {
   "cell_type": "code",
   "execution_count": 16,
   "metadata": {},
   "outputs": [
    {
     "name": "stdout",
     "output_type": "stream",
     "text": [
      "<class 'pandas.core.frame.DataFrame'>\n",
      "RangeIndex: 16 entries, 0 to 15\n",
      "Data columns (total 11 columns):\n",
      " #   Column          Non-Null Count  Dtype\n",
      "---  ------          --------------  -----\n",
      " 0   ï»¿Ano/Estados  16 non-null     int64\n",
      " 1   AC              16 non-null     int64\n",
      " 2   AM              16 non-null     int64\n",
      " 3   AP              16 non-null     int64\n",
      " 4   MA              16 non-null     int64\n",
      " 5   MT              16 non-null     int64\n",
      " 6   PA              16 non-null     int64\n",
      " 7   RO              16 non-null     int64\n",
      " 8   RR              16 non-null     int64\n",
      " 9   TO              16 non-null     int64\n",
      " 10  AMZ LEGAL       16 non-null     int64\n",
      "dtypes: int64(11)\n",
      "memory usage: 1.5 KB\n",
      "None\n",
      "Index(['ï»¿Ano/Estados', 'AC', 'AM', 'AP', 'MA', 'MT', 'PA', 'RO', 'RR', 'TO',\n",
      "       'AMZ LEGAL'],\n",
      "      dtype='object')\n",
      "(16, 11)\n"
     ]
    }
   ],
   "source": [
    "print(tabela_areas_desmatadas.info())\n",
    "print(tabela_areas_desmatadas.columns)\n",
    "print(tabela_areas_desmatadas.shape)"
   ]
  },
  {
   "cell_type": "code",
   "execution_count": 19,
   "metadata": {},
   "outputs": [
    {
     "name": "stdout",
     "output_type": "stream",
     "text": [
      "<class 'pandas.core.frame.DataFrame'>\n",
      "RangeIndex: 2104 entries, 0 to 2103\n",
      "Data columns (total 6 columns):\n",
      " #   Column     Non-Null Count  Dtype  \n",
      "---  ------     --------------  -----  \n",
      " 0   year       2104 non-null   int64  \n",
      " 1   month      2104 non-null   int64  \n",
      " 2   state      2104 non-null   object \n",
      " 3   latitude   2104 non-null   float64\n",
      " 4   longitude  2104 non-null   float64\n",
      " 5   firespots  2104 non-null   int64  \n",
      "dtypes: float64(2), int64(3), object(1)\n",
      "memory usage: 98.8+ KB\n",
      "None\n",
      "Index(['year', 'month', 'state', 'latitude', 'longitude', 'firespots'], dtype='object')\n",
      "(2104, 6)\n"
     ]
    }
   ],
   "source": [
    "print(tabela_areas_queimadas.info())\n",
    "print(tabela_areas_queimadas.columns)\n",
    "print(tabela_areas_queimadas.shape)"
   ]
  },
  {
   "cell_type": "code",
   "execution_count": 20,
   "metadata": {},
   "outputs": [
    {
     "name": "stdout",
     "output_type": "stream",
     "text": [
      "<class 'pandas.core.frame.DataFrame'>\n",
      "RangeIndex: 6454 entries, 0 to 6453\n",
      "Data columns (total 5 columns):\n",
      " #   Column  Non-Null Count  Dtype  \n",
      "---  ------  --------------  -----  \n",
      " 0   year    6454 non-null   int64  \n",
      " 1   state   6454 non-null   object \n",
      " 2   month   6454 non-null   object \n",
      " 3   number  6454 non-null   float64\n",
      " 4   date    6454 non-null   object \n",
      "dtypes: float64(1), int64(1), object(3)\n",
      "memory usage: 252.2+ KB\n",
      "None\n",
      "Index(['year', 'state', 'month', 'number', 'date'], dtype='object')\n",
      "(6454, 5)\n"
     ]
    }
   ],
   "source": [
    "print(tabela_areas_queimadas_mais_estados.info())\n",
    "print(tabela_areas_queimadas_mais_estados.columns)\n",
    "print(tabela_areas_queimadas_mais_estados.shape)"
   ]
  },
  {
   "cell_type": "code",
   "execution_count": null,
   "metadata": {},
   "outputs": [],
   "source": [
    "#Verificar a estrutura do conjunto de áreas queimadas para mais estados\n",
    "tabela_areas_queimadas_mais_estados.head()"
   ]
  },
  {
   "cell_type": "code",
   "execution_count": null,
   "metadata": {},
   "outputs": [],
   "source": [
    "#Verificar a estrutura do conjunto de áreas desmatadas\n",
    "tabela_areas_desmatadas.head()"
   ]
  },
  {
   "cell_type": "code",
   "execution_count": null,
   "metadata": {},
   "outputs": [],
   "source": [
    "#Verificar a estrutura do conjunto de áreas desmatadas\n",
    "tabela_areas_queimadas.head()"
   ]
  },
  {
   "cell_type": "code",
   "execution_count": null,
   "metadata": {},
   "outputs": [],
   "source": [
    "#############Verificar se tem nulos ou valores não identificados nos conjuntos"
   ]
  },
  {
   "cell_type": "code",
   "execution_count": 33,
   "metadata": {},
   "outputs": [],
   "source": [
    "def verifica_nulos(x):\n",
    "    \n",
    "    return x.isnull().sum()\n"
   ]
  },
  {
   "cell_type": "code",
   "execution_count": 35,
   "metadata": {},
   "outputs": [
    {
     "data": {
      "text/plain": [
       "ï»¿Ano/Estados    0\n",
       "AC                0\n",
       "AM                0\n",
       "AP                0\n",
       "MA                0\n",
       "MT                0\n",
       "PA                0\n",
       "RO                0\n",
       "RR                0\n",
       "TO                0\n",
       "AMZ LEGAL         0\n",
       "dtype: int64"
      ]
     },
     "execution_count": 35,
     "metadata": {},
     "output_type": "execute_result"
    }
   ],
   "source": [
    "verifica_nulos(tabela_areas_desmatadas)"
   ]
  },
  {
   "cell_type": "code",
   "execution_count": 36,
   "metadata": {},
   "outputs": [
    {
     "data": {
      "text/plain": [
       "year         0\n",
       "month        0\n",
       "state        0\n",
       "latitude     0\n",
       "longitude    0\n",
       "firespots    0\n",
       "dtype: int64"
      ]
     },
     "execution_count": 36,
     "metadata": {},
     "output_type": "execute_result"
    }
   ],
   "source": [
    "verifica_nulos(tabela_areas_queimadas)"
   ]
  },
  {
   "cell_type": "code",
   "execution_count": 37,
   "metadata": {},
   "outputs": [
    {
     "data": {
      "text/plain": [
       "year      0\n",
       "state     0\n",
       "month     0\n",
       "number    0\n",
       "date      0\n",
       "dtype: int64"
      ]
     },
     "execution_count": 37,
     "metadata": {},
     "output_type": "execute_result"
    }
   ],
   "source": [
    "verifica_nulos(tabela_areas_queimadas_mais_estados)"
   ]
  },
  {
   "cell_type": "code",
   "execution_count": 243,
   "metadata": {},
   "outputs": [],
   "source": [
    "def verifica_nan(x):\n",
    "\n",
    "    return np.isnan(x).values.any()\n",
    "\n",
    "    \n",
    "\n"
   ]
  },
  {
   "cell_type": "code",
   "execution_count": 244,
   "metadata": {},
   "outputs": [
    {
     "data": {
      "text/plain": [
       "False"
      ]
     },
     "execution_count": 244,
     "metadata": {},
     "output_type": "execute_result"
    }
   ],
   "source": [
    "verifica_nan(tabela_areas_desmatadas)"
   ]
  },
  {
   "cell_type": "code",
   "execution_count": 245,
   "metadata": {},
   "outputs": [
    {
     "data": {
      "text/plain": [
       "False"
      ]
     },
     "execution_count": 245,
     "metadata": {},
     "output_type": "execute_result"
    }
   ],
   "source": [
    "verifica_nan(tabela_areas_queimadas[['year','month','latitude','latitude','latitude']])"
   ]
  },
  {
   "cell_type": "code",
   "execution_count": 246,
   "metadata": {},
   "outputs": [
    {
     "data": {
      "text/plain": [
       "False"
      ]
     },
     "execution_count": 246,
     "metadata": {},
     "output_type": "execute_result"
    }
   ],
   "source": [
    "verifica_nan(tabela_areas_queimadas_mais_estados[['year','number']])"
   ]
  },
  {
   "cell_type": "code",
   "execution_count": null,
   "metadata": {},
   "outputs": [],
   "source": [
    "#Verificar duplicados no dataframe de áreas desmatadas\n",
    "tabela_areas_desmatadas.duplicated()"
   ]
  },
  {
   "cell_type": "code",
   "execution_count": null,
   "metadata": {},
   "outputs": [],
   "source": [
    "#Verificar duplicados no dataframe de áreas queimadas\n",
    "tabela_areas_queimadas.duplicated().any()"
   ]
  },
  {
   "cell_type": "code",
   "execution_count": null,
   "metadata": {},
   "outputs": [],
   "source": [
    "#Verificar duplicados no dataframe de áreas queimadas mais estados\n",
    "tabela_areas_queimadas_mais_estados.duplicated().any()"
   ]
  },
  {
   "cell_type": "code",
   "execution_count": null,
   "metadata": {},
   "outputs": [],
   "source": [
    "#Remover duplicidade de áreas queimadas mais estados\n",
    "tabela_areas_queimadas_mais_estados = tabela_areas_queimadas_mais_estados.drop_duplicates()"
   ]
  },
  {
   "cell_type": "code",
   "execution_count": null,
   "metadata": {},
   "outputs": [],
   "source": [
    "#Verificar novamente se existe duplicidade no dataframe de áreas queimadas mais estados\n",
    "tabela_areas_queimadas_mais_estados.duplicated().any()"
   ]
  },
  {
   "cell_type": "code",
   "execution_count": null,
   "metadata": {},
   "outputs": [],
   "source": [
    "########################Ajustes dos dados e criação de novos conjuntos#####################################"
   ]
  },
  {
   "cell_type": "code",
   "execution_count": null,
   "metadata": {},
   "outputs": [],
   "source": [
    "#### criação da base sobre queimadas que será utilizada no modelo e análises"
   ]
  },
  {
   "cell_type": "code",
   "execution_count": null,
   "metadata": {},
   "outputs": [],
   "source": [
    "#Primeira etapa: Alterações dos nomes para o dataframe queimadas da Amazônia Legal\n",
    "tabela_areas_queimadas = tabela_areas_queimadas.rename(columns= {'year':'Anos', 'month':'mês','firespots':'qtd. focos de incêndio','state':'estados'})"
   ]
  },
  {
   "cell_type": "code",
   "execution_count": null,
   "metadata": {},
   "outputs": [],
   "source": [
    "#Segunda etapa: Verificar estrutura após troca de nomes\n",
    "tabela_areas_queimadas.tail()"
   ]
  },
  {
   "cell_type": "code",
   "execution_count": null,
   "metadata": {
    "scrolled": true
   },
   "outputs": [],
   "source": [
    "#Terceira Etapa: Alteração dos nomes para o conjunto de dados sobre queimadas nos demais estados\n",
    "tabela_areas_queimadas_mais_estados = tabela_areas_queimadas_mais_estados.rename(columns= {'year':'Anos', 'month':'mês','number':'qtd. focos de incêndio','state':'estados'})"
   ]
  },
  {
   "cell_type": "code",
   "execution_count": null,
   "metadata": {},
   "outputs": [],
   "source": [
    "#Quarta Etapa: Criação de dataframe sem latitude e longitude para junção com o anterior  para queimadas nos estados AMZ\n",
    "tabelas_areas_queimadas_sem_lat_e_long = tabela_areas_queimadas[['Anos','mês', 'estados','qtd. focos de incêndio']]"
   ]
  },
  {
   "cell_type": "code",
   "execution_count": null,
   "metadata": {},
   "outputs": [],
   "source": [
    "#Quinta estapa : Agrupamento por Ano, mês e estado do dados sobre Estados Gerais\n",
    "tabelas_areas_queimadas_sem_lat_e_long_amz = tabelas_areas_queimadas_sem_lat_e_long.groupby(['Anos','mês','estados']).sum().reset_index()"
   ]
  },
  {
   "cell_type": "code",
   "execution_count": null,
   "metadata": {},
   "outputs": [],
   "source": [
    "#Sexta Etapa: Agrupamento por Ano, mês e estado do dados sobre queimadas nos outros estados\n",
    "tabela_areas_queimadas_mais_estados = tabela_areas_queimadas_mais_estados.groupby(['Anos','mês','estados']).sum().reset_index()"
   ]
  },
  {
   "cell_type": "code",
   "execution_count": null,
   "metadata": {},
   "outputs": [],
   "source": [
    "### Sétima Etapa: Mudar os meses do conjunto de queimadas para estados para númerico, com o objetivo de trabalhar no modelo\n",
    "tabela_areas_queimadas_mais_estados.loc[tabela_areas_queimadas_mais_estados['mês']==\"Janeiro\",'mês'] = 1\n",
    "tabela_areas_queimadas_mais_estados.loc[tabela_areas_queimadas_mais_estados['mês']==\"Fevereiro\",'mês'] = 2\n",
    "tabela_areas_queimadas_mais_estados.loc[tabela_areas_queimadas_mais_estados['mês']==\"Março\",'mês'] = 3\n",
    "tabela_areas_queimadas_mais_estados.loc[tabela_areas_queimadas_mais_estados['mês']==\"Abril\",'mês'] = 4\n",
    "tabela_areas_queimadas_mais_estados.loc[tabela_areas_queimadas_mais_estados['mês']==\"Maio\",'mês'] = 5\n",
    "tabela_areas_queimadas_mais_estados.loc[tabela_areas_queimadas_mais_estados['mês']==\"Junho\",'mês'] = 6\n",
    "tabela_areas_queimadas_mais_estados.loc[tabela_areas_queimadas_mais_estados['mês']==\"Julho\",'mês'] = 7\n",
    "tabela_areas_queimadas_mais_estados.loc[tabela_areas_queimadas_mais_estados['mês']==\"Agosto\",'mês'] = 8\n",
    "tabela_areas_queimadas_mais_estados.loc[tabela_areas_queimadas_mais_estados['mês']==\"Setembro\",'mês'] = 9\n",
    "tabela_areas_queimadas_mais_estados.loc[tabela_areas_queimadas_mais_estados['mês']==\"Outubro\",'mês'] = 10\n",
    "tabela_areas_queimadas_mais_estados.loc[tabela_areas_queimadas_mais_estados['mês']==\"Novembro\",'mês'] =11\n",
    "tabela_areas_queimadas_mais_estados.loc[tabela_areas_queimadas_mais_estados['mês']==\"Dezembro\",'mês'] = 12"
   ]
  },
  {
   "cell_type": "code",
   "execution_count": null,
   "metadata": {},
   "outputs": [],
   "source": [
    "### Oitava Etapa: Excluir registros do conjunto mais estados, e deixar somente Estados que não sejam da Amazônia Legal para não ter duplicidade\n",
    "tabela_areas_queimadas_mais_estados = tabela_areas_queimadas_mais_estados.query(\"not(estados== 'Acre') and not(estados== 'Amapa') and not(estados== 'Amazonas') and not(estados== 'Mato Grosso') and not(estados== 'Para') and not(estados== 'Rondonia') and not(estados== 'Roraima') and not(estados== 'Tocantins') and not(estados== 'Pará')and not(estados== 'Maranhao')\")"
   ]
  },
  {
   "cell_type": "code",
   "execution_count": null,
   "metadata": {},
   "outputs": [],
   "source": [
    "#Nona Etapa: Criação do conjunto que será utilizado no novo dataframe\n",
    "conjunto_queimadas = [tabelas_areas_queimadas_sem_lat_e_long_amz, tabela_areas_queimadas_mais_estados]"
   ]
  },
  {
   "cell_type": "code",
   "execution_count": null,
   "metadata": {},
   "outputs": [],
   "source": [
    "##Décima Etapa: Concatenar os conjuntos para criação do novo conjunto sobre queimadas\n",
    "resultado_queimadas = pd.concat(conjunto_queimadas)"
   ]
  },
  {
   "cell_type": "code",
   "execution_count": null,
   "metadata": {},
   "outputs": [],
   "source": [
    "##Décima Primeira Etapa: Agrupamento para Ano, mês e estados, para somar os valores por essas colunas citadas\n",
    "resultado_queimadas_group_by = resultado_queimadas.groupby(['Anos','mês','estados']).sum().reset_index()\n"
   ]
  },
  {
   "cell_type": "code",
   "execution_count": null,
   "metadata": {},
   "outputs": [],
   "source": [
    "##########Décima Segunda Etapa: Criação de Colunas para os estados, para auxiliar na execução do modelo\n",
    "resultado_queimadas_group_by.loc[resultado_queimadas_group_by['estados']==\"AMAZONAS\",'AM - qtd. focos de incêndio']=resultado_queimadas_group_by['qtd. focos de incêndio']"
   ]
  },
  {
   "cell_type": "code",
   "execution_count": null,
   "metadata": {},
   "outputs": [],
   "source": [
    "resultado_queimadas_group_by.loc[resultado_queimadas_group_by['estados']==\"MARANHAO\",'MA - qtd. focos de incêndio']=resultado_queimadas_group_by['qtd. focos de incêndio']\n",
    "resultado_queimadas_group_by.loc[resultado_queimadas_group_by['estados']==\"ACRE\",'AC - qtd. focos de incêndio']=resultado_queimadas_group_by['qtd. focos de incêndio']\n",
    "resultado_queimadas_group_by.loc[resultado_queimadas_group_by['estados']==\"AMAPA\",'AP - qtd. focos de incêndio']=resultado_queimadas_group_by['qtd. focos de incêndio']\n",
    "resultado_queimadas_group_by.loc[resultado_queimadas_group_by['estados']==\"MATO GROSSO\",'MT - qtd. focos de incêndio']=resultado_queimadas_group_by['qtd. focos de incêndio']\n",
    "resultado_queimadas_group_by.loc[resultado_queimadas_group_by['estados']==\"PARA\",'PA - qtd. focos de incêndio']=resultado_queimadas_group_by['qtd. focos de incêndio']\n",
    "resultado_queimadas_group_by.loc[resultado_queimadas_group_by['estados']==\"RONDONIA\",'RO - qtd. focos de incêndio']=resultado_queimadas_group_by['qtd. focos de incêndio']\n",
    "resultado_queimadas_group_by.loc[resultado_queimadas_group_by['estados']==\"RORAIMA\",'RR - qtd. focos de incêndio']=resultado_queimadas_group_by['qtd. focos de incêndio']\n",
    "resultado_queimadas_group_by.loc[resultado_queimadas_group_by['estados']==\"TOCANTINS\",'TO - qtd. focos de incêndio']=resultado_queimadas_group_by['qtd. focos de incêndio']"
   ]
  },
  {
   "cell_type": "code",
   "execution_count": null,
   "metadata": {},
   "outputs": [],
   "source": [
    "resultado_queimadas_group_by.loc[resultado_queimadas_group_by['estados']==\"Alagoas\",'AL - qtd. focos de incêndio']=resultado_queimadas_group_by['qtd. focos de incêndio']\n",
    "resultado_queimadas_group_by.loc[resultado_queimadas_group_by['estados']==\"Bahia\",'BA - qtd. focos de incêndio']=resultado_queimadas_group_by['qtd. focos de incêndio']\n"
   ]
  },
  {
   "cell_type": "code",
   "execution_count": null,
   "metadata": {},
   "outputs": [],
   "source": [
    "resultado_queimadas_group_by.loc[resultado_queimadas_group_by['estados']==\"Ceara\",'CE - qtd. focos de incêndio']=resultado_queimadas_group_by['qtd. focos de incêndio']\n",
    "resultado_queimadas_group_by.loc[resultado_queimadas_group_by['estados']==\"Distrito Federal\",'DF - qtd. focos de incêndio']=resultado_queimadas_group_by['qtd. focos de incêndio']\n"
   ]
  },
  {
   "cell_type": "code",
   "execution_count": null,
   "metadata": {},
   "outputs": [],
   "source": [
    "resultado_queimadas_group_by.loc[resultado_queimadas_group_by['estados']==\"Espirito Santo\",'ES - qtd. focos de incêndio']=resultado_queimadas_group_by['qtd. focos de incêndio']\n",
    "resultado_queimadas_group_by.loc[resultado_queimadas_group_by['estados']==\"Goias\",'GO - qtd. focos de incêndio']=resultado_queimadas_group_by['qtd. focos de incêndio']\n"
   ]
  },
  {
   "cell_type": "code",
   "execution_count": null,
   "metadata": {},
   "outputs": [],
   "source": [
    "resultado_queimadas_group_by.loc[resultado_queimadas_group_by['estados']==\"Minas Gerais\",'MG - qtd. focos de incêndio']=resultado_queimadas_group_by['qtd. focos de incêndio']\n",
    "resultado_queimadas_group_by.loc[resultado_queimadas_group_by['estados']==\"Paraiba\",'PA - qtd. focos de incêndio']=resultado_queimadas_group_by['qtd. focos de incêndio']\n"
   ]
  },
  {
   "cell_type": "code",
   "execution_count": null,
   "metadata": {},
   "outputs": [],
   "source": [
    "resultado_queimadas_group_by.loc[resultado_queimadas_group_by['estados']==\"Pernambuco\",'PE - qtd. focos de incêndio']=resultado_queimadas_group_by['qtd. focos de incêndio']\n",
    "\n"
   ]
  },
  {
   "cell_type": "code",
   "execution_count": null,
   "metadata": {},
   "outputs": [],
   "source": [
    "resultado_queimadas_group_by.loc[resultado_queimadas_group_by['estados']==\"Rio\",'RJ - qtd. focos de incêndio']=resultado_queimadas_group_by['qtd. focos de incêndio']\n",
    "resultado_queimadas_group_by.loc[resultado_queimadas_group_by['estados']==\"Santa Catarina\",'PI - qtd. focos de incêndio']=resultado_queimadas_group_by['qtd. focos de incêndio']\n",
    "\n",
    "resultado_queimadas_group_by.loc[resultado_queimadas_group_by['estados']==\"Sao Paulo\",'SC - qtd. focos de incêndio']=resultado_queimadas_group_by['qtd. focos de incêndio']\n"
   ]
  },
  {
   "cell_type": "code",
   "execution_count": null,
   "metadata": {},
   "outputs": [],
   "source": [
    "resultado_queimadas_group_by.loc[resultado_queimadas_group_by['estados']==\"Piaui\",'PI - qtd. focos de incêndio']=resultado_queimadas_group_by['qtd. focos de incêndio']"
   ]
  },
  {
   "cell_type": "code",
   "execution_count": null,
   "metadata": {},
   "outputs": [],
   "source": [
    "resultado_queimadas_group_by.loc[resultado_queimadas_group_by['estados']==\"Sergipe\",'SE - qtd. focos de incêndio']=resultado_queimadas_group_by['qtd. focos de incêndio']\n",
    "\n"
   ]
  },
  {
   "cell_type": "code",
   "execution_count": null,
   "metadata": {},
   "outputs": [],
   "source": [
    "### Décima Terceira Etapa: Análise após ajustes\n",
    "resultado_queimadas_group_by.columns"
   ]
  },
  {
   "cell_type": "code",
   "execution_count": null,
   "metadata": {},
   "outputs": [],
   "source": [
    "####Décima Quarta Etapa: Excluir as colunas estados e qtd. focos de incêndio, pois não serão utilizadas\n",
    "df_queimadas_group_by = resultado_queimadas_group_by.drop(['estados','qtd. focos de incêndio'],axis=1) "
   ]
  },
  {
   "cell_type": "code",
   "execution_count": null,
   "metadata": {},
   "outputs": [],
   "source": [
    "### Décima Quinta Etapa: Agrupar por anos e mês o novo dataframe\n",
    "df_queimadas_group_by = df_queimadas_group_by.groupby(['Anos','mês']).sum().reset_index()"
   ]
  },
  {
   "cell_type": "code",
   "execution_count": null,
   "metadata": {},
   "outputs": [],
   "source": [
    "###Décima Sexta Etapa: Criação da coluna de somatório de queimadas\n",
    "colunas = ['AM - qtd. focos de incêndio',\n",
    "       'MA - qtd. focos de incêndio', 'AC - qtd. focos de incêndio',\n",
    "       'AP - qtd. focos de incêndio', 'MT - qtd. focos de incêndio',\n",
    "       'PA - qtd. focos de incêndio', 'RO - qtd. focos de incêndio',\n",
    "       'RR - qtd. focos de incêndio', 'TO - qtd. focos de incêndio',\n",
    "       'AL - qtd. focos de incêndio', 'BA - qtd. focos de incêndio',\n",
    "       'CE - qtd. focos de incêndio', 'DF - qtd. focos de incêndio',\n",
    "       'ES - qtd. focos de incêndio', 'GO - qtd. focos de incêndio',\n",
    "       'MG - qtd. focos de incêndio', 'PE - qtd. focos de incêndio',\n",
    "       'PI - qtd. focos de incêndio', 'RJ - qtd. focos de incêndio',\n",
    "       'SC - qtd. focos de incêndio', 'SE - qtd. focos de incêndio']"
   ]
  },
  {
   "cell_type": "code",
   "execution_count": null,
   "metadata": {},
   "outputs": [],
   "source": [
    "###Décima Sétima Etapa: Somatório das colunas citadas anteriormente\n",
    "df_queimadas_group_by[\"somatorio_queimadas_ano_mes\"] = df_queimadas_group_by[colunas].sum(axis=1)"
   ]
  },
  {
   "cell_type": "code",
   "execution_count": null,
   "metadata": {},
   "outputs": [],
   "source": [
    "###Décima Oitava Etapa: Criação de dataframe sem mês - Aviso: Será usado para o relatório no power bi e no modelo\n",
    "df_queimadas_group_by_sem_mes = df_queimadas_group_by.drop(['mês'],axis=1) "
   ]
  },
  {
   "cell_type": "code",
   "execution_count": null,
   "metadata": {},
   "outputs": [],
   "source": [
    "###Décima Nona Etapa: Criação de dataframe sem mês - Aviso: Será usado para análises nos gráficos\n",
    "df_queimadas_group_by_sem_ano = df_queimadas_group_by.drop(['Anos'],axis=1) "
   ]
  },
  {
   "cell_type": "code",
   "execution_count": null,
   "metadata": {},
   "outputs": [],
   "source": [
    "###Vigésima Etapa: Agrupamento dos dataframes criados anteriormente\n",
    "df_queimadas_group_by_sem_mes = df_queimadas_group_by_sem_mes.groupby(['Anos']).sum().reset_index()"
   ]
  },
  {
   "cell_type": "code",
   "execution_count": null,
   "metadata": {},
   "outputs": [],
   "source": [
    "df_queimadas_group_by_sem_ano = df_queimadas_group_by_sem_ano.groupby(['mês']).sum().reset_index()"
   ]
  },
  {
   "cell_type": "code",
   "execution_count": null,
   "metadata": {},
   "outputs": [],
   "source": [
    "######################## criação da base sobre queimadas que será utilizado para análise no power bi\n"
   ]
  },
  {
   "cell_type": "code",
   "execution_count": null,
   "metadata": {},
   "outputs": [],
   "source": [
    "###1 - Verificar o nome das colunas \n",
    "tabela_areas_desmatadas.columns"
   ]
  },
  {
   "cell_type": "code",
   "execution_count": null,
   "metadata": {},
   "outputs": [],
   "source": [
    "### 2 - renomear as colunas"
   ]
  },
  {
   "cell_type": "code",
   "execution_count": null,
   "metadata": {},
   "outputs": [],
   "source": [
    "tabela_areas_desmatadas = tabela_areas_desmatadas.rename(columns = {'ï»¿Ano/Estados':'Anos','AC':'AC - Área desmatada (km²)','AM':'AM - Área desmatada (km²)','AP':'AP - Área desmatada (km²)',\n",
    "                                                   'MA':'MA - Área desmatada (km²)', 'MT':'MT - Área desmatada (km²)','PA':'PA - Área desmatada (km²)',\n",
    "                                                  'RO':'RO - Área desmatada (km²)', 'RR':'RR - Área desmatada (km²)','TO':'TO - Área desmatada (km²)',\n",
    "                                                   'AMZ LEGAL':'AMZ LEGAL - Área desmatada (km²)'\n",
    "                                                  })"
   ]
  },
  {
   "cell_type": "code",
   "execution_count": null,
   "metadata": {},
   "outputs": [],
   "source": [
    "#### 3 - criação de index para o conjunto desmatadas\n",
    "tabela_areas_desmatadas.set_index('Anos',inplace = True)"
   ]
  },
  {
   "cell_type": "code",
   "execution_count": null,
   "metadata": {},
   "outputs": [],
   "source": [
    "#### 4 -  Criação do novo conjunto de dados\n",
    "df_desmatadas_queimadas = pd.DataFrame.merge(tabela_areas_desmatadas,df_queimadas_group_by_sem_mes,on='Anos')"
   ]
  },
  {
   "cell_type": "code",
   "execution_count": null,
   "metadata": {},
   "outputs": [],
   "source": [
    "### 5 - Criação de index do novo dataframe\n",
    "df_desmatadas_queimadas.set_index('Anos',inplace = True)"
   ]
  },
  {
   "cell_type": "code",
   "execution_count": null,
   "metadata": {},
   "outputs": [],
   "source": [
    "###6 - Exportar arquivo para ser usado no power bi\n",
    "df_desmatadas_queimadas.to_csv(\"df_desmatadas_queimadas.csv\",index=True)\n",
    "\n"
   ]
  },
  {
   "cell_type": "code",
   "execution_count": null,
   "metadata": {},
   "outputs": [],
   "source": [
    "##7 - Criação de index para análises para o dataframe queimadas\n",
    "df_queimadas_group_by_sem_mes.set_index('Anos',inplace = True)"
   ]
  },
  {
   "cell_type": "code",
   "execution_count": null,
   "metadata": {},
   "outputs": [],
   "source": [
    "#####################Criação dos gráficos para análise\n",
    "\n"
   ]
  },
  {
   "cell_type": "code",
   "execution_count": null,
   "metadata": {},
   "outputs": [],
   "source": [
    "###Análise da área desmatada na Amazônia Legal\n",
    "print(\"Área Desmatada  - AMZ LEGAL(km²) - entre 2004 e 2019\")\n",
    "grafico_barras_amz = tabela_areas_desmatadas['AMZ LEGAL - Área desmatada (km²)'].plot(kind = 'bar', figsize = (11,6),fontsize=14)\n",
    "grafico_barras_amz.set_title(\"Área Desmatada  - AMZ LEGAL(km²) - entre 2004 e 2019\", fontsize = 20)\n",
    "grafico_barras_amz.set_ylabel(\"(km²)\",fontsize=15)\n",
    "grafico_barras_amz.set_xlabel(\"Anos\",fontsize=15)"
   ]
  },
  {
   "cell_type": "code",
   "execution_count": null,
   "metadata": {},
   "outputs": [],
   "source": [
    "##############Análise para os focos de queimadas para o ano com maior índice de desmatamento\n",
    "print(\"Quantidade de Focos de Incêndio - 2004\")\n",
    "grafico_barras_amz = df_queimadas_group_by_sem_mes[['AM - qtd. focos de incêndio','MA - qtd. focos de incêndio',\n",
    "       'AC - qtd. focos de incêndio', 'AP - qtd. focos de incêndio',\n",
    "       'MT - qtd. focos de incêndio', 'PA - qtd. focos de incêndio',\n",
    "       'RO - qtd. focos de incêndio', 'RR - qtd. focos de incêndio',\n",
    "       'TO - qtd. focos de incêndio', 'AL - qtd. focos de incêndio',\n",
    "       'BA - qtd. focos de incêndio', 'CE - qtd. focos de incêndio',\n",
    "       'DF - qtd. focos de incêndio', 'ES - qtd. focos de incêndio',\n",
    "       'GO - qtd. focos de incêndio', 'MG - qtd. focos de incêndio',\n",
    "       'PE - qtd. focos de incêndio', 'RJ - qtd. focos de incêndio',\n",
    "       'PI - qtd. focos de incêndio', 'SC - qtd. focos de incêndio',\n",
    "       'SE - qtd. focos de incêndio' ]].loc[2004].plot(kind = 'barh', figsize = (11,6),fontsize=14)\n",
    "grafico_barras_amz.set_title(\"Qtd. focos de incêndio - 2004\", fontsize = 20)\n",
    "grafico_barras_amz.set_ylabel(\"Estados\",fontsize=15)\n",
    "grafico_barras_amz.set_xlabel(\"Qtd. focos de incêndio\",fontsize=15)"
   ]
  },
  {
   "cell_type": "code",
   "execution_count": null,
   "metadata": {},
   "outputs": [],
   "source": [
    "##############Análise para os focos de queimadas no ano 2005 e 2006\n",
    "print(\"Quantidade de Focos de Incêndio - 2005,2006\")\n",
    "grafico_barras_amz = df_queimadas_group_by_sem_mes[['AM - qtd. focos de incêndio','MA - qtd. focos de incêndio',\n",
    "       'AC - qtd. focos de incêndio', 'AP - qtd. focos de incêndio',\n",
    "       'MT - qtd. focos de incêndio', 'PA - qtd. focos de incêndio',\n",
    "       'RO - qtd. focos de incêndio', 'RR - qtd. focos de incêndio',\n",
    "       'TO - qtd. focos de incêndio', 'AL - qtd. focos de incêndio',\n",
    "       'BA - qtd. focos de incêndio', 'CE - qtd. focos de incêndio',\n",
    "       'DF - qtd. focos de incêndio', 'ES - qtd. focos de incêndio',\n",
    "       'GO - qtd. focos de incêndio', 'MG - qtd. focos de incêndio',\n",
    "       'PE - qtd. focos de incêndio', 'RJ - qtd. focos de incêndio',\n",
    "       'PI - qtd. focos de incêndio', 'SC - qtd. focos de incêndio',\n",
    "       'SE - qtd. focos de incêndio' ]].loc[[2005,2006]].plot(kind = 'barh', figsize = (20,10),fontsize=14)\n",
    "grafico_barras_amz.set_title(\"Qtd. focos de incêndio - 2005,2006\", fontsize = 20)\n",
    "grafico_barras_amz.set_ylabel(\"Estados\",fontsize=15)\n",
    "grafico_barras_amz.set_xlabel(\"Qtd. focos de incêndio\",fontsize=15)"
   ]
  },
  {
   "cell_type": "code",
   "execution_count": null,
   "metadata": {},
   "outputs": [],
   "source": [
    "##############Análise para os focos de queimadas no ano 2007 e 2008\n",
    "print(\"Quantidade de Focos de Incêndio - 2007,2008\")\n",
    "grafico_barras_amz = df_queimadas_group_by_sem_mes[['AM - qtd. focos de incêndio','MA - qtd. focos de incêndio',\n",
    "       'AC - qtd. focos de incêndio', 'AP - qtd. focos de incêndio',\n",
    "       'MT - qtd. focos de incêndio', 'PA - qtd. focos de incêndio',\n",
    "       'RO - qtd. focos de incêndio', 'RR - qtd. focos de incêndio',\n",
    "       'TO - qtd. focos de incêndio', 'AL - qtd. focos de incêndio',\n",
    "       'BA - qtd. focos de incêndio', 'CE - qtd. focos de incêndio',\n",
    "       'DF - qtd. focos de incêndio', 'ES - qtd. focos de incêndio',\n",
    "       'GO - qtd. focos de incêndio', 'MG - qtd. focos de incêndio',\n",
    "       'PE - qtd. focos de incêndio', 'RJ - qtd. focos de incêndio',\n",
    "       'PI - qtd. focos de incêndio', 'SC - qtd. focos de incêndio',\n",
    "       'SE - qtd. focos de incêndio' ]].loc[[2007,2008]].plot(kind = 'barh', figsize = (20,10),fontsize=14)\n",
    "grafico_barras_amz.set_title(\"Qtd. focos de incêndio - 2007,2008\", fontsize = 20)\n",
    "grafico_barras_amz.set_ylabel(\"Estados\",fontsize=15)\n",
    "grafico_barras_amz.set_xlabel(\"Qtd. focos de incêndio\",fontsize=15)"
   ]
  },
  {
   "cell_type": "code",
   "execution_count": null,
   "metadata": {},
   "outputs": [],
   "source": [
    "##############Análise para os focos de queimadas no ano 2008 e 2009\n",
    "print(\"Quantidade de Focos de Incêndio - 2008,2009\")\n",
    "grafico_barras_amz = df_queimadas_group_by_sem_mes[['AM - qtd. focos de incêndio','MA - qtd. focos de incêndio',\n",
    "       'AC - qtd. focos de incêndio', 'AP - qtd. focos de incêndio',\n",
    "       'MT - qtd. focos de incêndio', 'PA - qtd. focos de incêndio',\n",
    "       'RO - qtd. focos de incêndio', 'RR - qtd. focos de incêndio',\n",
    "       'TO - qtd. focos de incêndio', 'AL - qtd. focos de incêndio',\n",
    "       'BA - qtd. focos de incêndio', 'CE - qtd. focos de incêndio',\n",
    "       'DF - qtd. focos de incêndio', 'ES - qtd. focos de incêndio',\n",
    "       'GO - qtd. focos de incêndio', 'MG - qtd. focos de incêndio',\n",
    "       'PE - qtd. focos de incêndio', 'RJ - qtd. focos de incêndio',\n",
    "       'PI - qtd. focos de incêndio', 'SC - qtd. focos de incêndio',\n",
    "       'SE - qtd. focos de incêndio' ]].loc[[2008,2009]].plot(kind = 'barh', figsize = (20,10),fontsize=14)\n",
    "grafico_barras_amz.set_title(\"Qtd. focos de incêndio - 2008,2009\", fontsize = 20)\n",
    "grafico_barras_amz.set_ylabel(\"Estados\",fontsize=15)\n",
    "grafico_barras_amz.set_xlabel(\"Qtd. focos de incêndio\",fontsize=15)"
   ]
  },
  {
   "cell_type": "code",
   "execution_count": null,
   "metadata": {},
   "outputs": [],
   "source": [
    "##############Análise para os focos de queimadas no ano 2010 e 2011\n",
    "print(\"Quantidade de Focos de Incêndio - 2010,2011\")\n",
    "grafico_barras_amz = df_queimadas_group_by_sem_mes[['AM - qtd. focos de incêndio','MA - qtd. focos de incêndio',\n",
    "       'AC - qtd. focos de incêndio', 'AP - qtd. focos de incêndio',\n",
    "       'MT - qtd. focos de incêndio', 'PA - qtd. focos de incêndio',\n",
    "       'RO - qtd. focos de incêndio', 'RR - qtd. focos de incêndio',\n",
    "       'TO - qtd. focos de incêndio', 'AL - qtd. focos de incêndio',\n",
    "       'BA - qtd. focos de incêndio', 'CE - qtd. focos de incêndio',\n",
    "       'DF - qtd. focos de incêndio', 'ES - qtd. focos de incêndio',\n",
    "       'GO - qtd. focos de incêndio', 'MG - qtd. focos de incêndio',\n",
    "       'PE - qtd. focos de incêndio', 'RJ - qtd. focos de incêndio',\n",
    "       'PI - qtd. focos de incêndio', 'SC - qtd. focos de incêndio',\n",
    "       'SE - qtd. focos de incêndio' ]].loc[[2010,2011]].plot(kind = 'barh', figsize = (20,10),fontsize=14)\n",
    "grafico_barras_amz.set_title(\"Qtd. focos de incêndio - 2010,2011\", fontsize = 20)\n",
    "grafico_barras_amz.set_ylabel(\"Estados\",fontsize=15)\n",
    "grafico_barras_amz.set_xlabel(\"Qtd. focos de incêndio\",fontsize=15)"
   ]
  },
  {
   "cell_type": "code",
   "execution_count": null,
   "metadata": {},
   "outputs": [],
   "source": [
    "##############Análise para os focos de queimadas no ano 2011 e 2012\n",
    "print(\"Quantidade de Focos de Incêndio - 2011,2012\")\n",
    "grafico_barras_amz = df_queimadas_group_by_sem_mes[['AM - qtd. focos de incêndio','MA - qtd. focos de incêndio',\n",
    "       'AC - qtd. focos de incêndio', 'AP - qtd. focos de incêndio',\n",
    "       'MT - qtd. focos de incêndio', 'PA - qtd. focos de incêndio',\n",
    "       'RO - qtd. focos de incêndio', 'RR - qtd. focos de incêndio',\n",
    "       'TO - qtd. focos de incêndio', 'AL - qtd. focos de incêndio',\n",
    "       'BA - qtd. focos de incêndio', 'CE - qtd. focos de incêndio',\n",
    "       'DF - qtd. focos de incêndio', 'ES - qtd. focos de incêndio',\n",
    "       'GO - qtd. focos de incêndio', 'MG - qtd. focos de incêndio',\n",
    "       'PE - qtd. focos de incêndio', 'RJ - qtd. focos de incêndio',\n",
    "       'PI - qtd. focos de incêndio', 'SC - qtd. focos de incêndio',\n",
    "       'SE - qtd. focos de incêndio' ]].loc[[2011,2012]].plot(kind = 'barh', figsize = (20,10),fontsize=14)\n",
    "grafico_barras_amz.set_title(\"Qtd. focos de incêndio - 2011,2012\", fontsize = 20)\n",
    "grafico_barras_amz.set_ylabel(\"Estados\",fontsize=15)\n",
    "grafico_barras_amz.set_xlabel(\"Qtd. focos de incêndio\",fontsize=15)"
   ]
  },
  {
   "cell_type": "code",
   "execution_count": null,
   "metadata": {},
   "outputs": [],
   "source": [
    "##############Análise para os focos de queimadas no ano 2012 e 2013\n",
    "print(\"Quantidade de Focos de Incêndio - 2012,2013\")\n",
    "grafico_barras_amz = df_queimadas_group_by_sem_mes[['AM - qtd. focos de incêndio','MA - qtd. focos de incêndio',\n",
    "       'AC - qtd. focos de incêndio', 'AP - qtd. focos de incêndio',\n",
    "       'MT - qtd. focos de incêndio', 'PA - qtd. focos de incêndio',\n",
    "       'RO - qtd. focos de incêndio', 'RR - qtd. focos de incêndio',\n",
    "       'TO - qtd. focos de incêndio', 'AL - qtd. focos de incêndio',\n",
    "       'BA - qtd. focos de incêndio', 'CE - qtd. focos de incêndio',\n",
    "       'DF - qtd. focos de incêndio', 'ES - qtd. focos de incêndio',\n",
    "       'GO - qtd. focos de incêndio', 'MG - qtd. focos de incêndio',\n",
    "       'PE - qtd. focos de incêndio', 'RJ - qtd. focos de incêndio',\n",
    "       'PI - qtd. focos de incêndio', 'SC - qtd. focos de incêndio',\n",
    "       'SE - qtd. focos de incêndio' ]].loc[[2012,2013]].plot(kind = 'barh', figsize = (20,10),fontsize=14)\n",
    "grafico_barras_amz.set_title(\"Qtd. focos de incêndio - 2011,2012\", fontsize = 20)\n",
    "grafico_barras_amz.set_ylabel(\"Estados\",fontsize=15)\n",
    "grafico_barras_amz.set_xlabel(\"Qtd. focos de incêndio\",fontsize=15)"
   ]
  },
  {
   "cell_type": "code",
   "execution_count": null,
   "metadata": {},
   "outputs": [],
   "source": [
    "##############Análise para os focos de queimadas no ano 2014 e 2015\n",
    "print(\"Quantidade de Focos de Incêndio - 2014,2015\")\n",
    "grafico_barras_amz = df_queimadas_group_by_sem_mes[['AM - qtd. focos de incêndio','MA - qtd. focos de incêndio',\n",
    "       'AC - qtd. focos de incêndio', 'AP - qtd. focos de incêndio',\n",
    "       'MT - qtd. focos de incêndio', 'PA - qtd. focos de incêndio',\n",
    "       'RO - qtd. focos de incêndio', 'RR - qtd. focos de incêndio',\n",
    "       'TO - qtd. focos de incêndio', 'AL - qtd. focos de incêndio',\n",
    "       'BA - qtd. focos de incêndio', 'CE - qtd. focos de incêndio',\n",
    "       'DF - qtd. focos de incêndio', 'ES - qtd. focos de incêndio',\n",
    "       'GO - qtd. focos de incêndio', 'MG - qtd. focos de incêndio',\n",
    "       'PE - qtd. focos de incêndio', 'RJ - qtd. focos de incêndio',\n",
    "       'PI - qtd. focos de incêndio', 'SC - qtd. focos de incêndio',\n",
    "       'SE - qtd. focos de incêndio' ]].loc[[2014,2015]].plot(kind = 'barh', figsize = (20,10),fontsize=14)\n",
    "grafico_barras_amz.set_title(\"Qtd. focos de incêndio - 2014,2015\", fontsize = 20)\n",
    "grafico_barras_amz.set_ylabel(\"Estados\",fontsize=15)\n",
    "grafico_barras_amz.set_xlabel(\"Qtd. focos de incêndio\",fontsize=15)"
   ]
  },
  {
   "cell_type": "code",
   "execution_count": null,
   "metadata": {},
   "outputs": [],
   "source": [
    "##############Análise para os focos de queimadas no ano 2015 e 2016\n",
    "print(\"Quantidade de Focos de Incêndio - 2015,2016\")\n",
    "grafico_barras_amz = df_queimadas_group_by_sem_mes[['AM - qtd. focos de incêndio','MA - qtd. focos de incêndio',\n",
    "       'AC - qtd. focos de incêndio', 'AP - qtd. focos de incêndio',\n",
    "       'MT - qtd. focos de incêndio', 'PA - qtd. focos de incêndio',\n",
    "       'RO - qtd. focos de incêndio', 'RR - qtd. focos de incêndio',\n",
    "       'TO - qtd. focos de incêndio', 'AL - qtd. focos de incêndio',\n",
    "       'BA - qtd. focos de incêndio', 'CE - qtd. focos de incêndio',\n",
    "       'DF - qtd. focos de incêndio', 'ES - qtd. focos de incêndio',\n",
    "       'GO - qtd. focos de incêndio', 'MG - qtd. focos de incêndio',\n",
    "       'PE - qtd. focos de incêndio', 'RJ - qtd. focos de incêndio',\n",
    "       'PI - qtd. focos de incêndio', 'SC - qtd. focos de incêndio',\n",
    "       'SE - qtd. focos de incêndio' ]].loc[[2015,2016]].plot(kind = 'barh', figsize = (20,10),fontsize=14)\n",
    "grafico_barras_amz.set_title(\"Qtd. focos de incêndio - 2015,2016\", fontsize = 20)\n",
    "grafico_barras_amz.set_ylabel(\"Estados\",fontsize=15)\n",
    "grafico_barras_amz.set_xlabel(\"Qtd. focos de incêndio\",fontsize=15)"
   ]
  },
  {
   "cell_type": "code",
   "execution_count": null,
   "metadata": {},
   "outputs": [],
   "source": [
    "##############Análise para os focos de queimadas no ano 2016 e 2017\n",
    "print(\"Quantidade de Focos de Incêndio - 2016,2017\")\n",
    "grafico_barras_amz = df_queimadas_group_by_sem_mes[['AM - qtd. focos de incêndio','MA - qtd. focos de incêndio',\n",
    "       'AC - qtd. focos de incêndio', 'AP - qtd. focos de incêndio',\n",
    "       'MT - qtd. focos de incêndio', 'PA - qtd. focos de incêndio',\n",
    "       'RO - qtd. focos de incêndio', 'RR - qtd. focos de incêndio',\n",
    "       'TO - qtd. focos de incêndio', 'AL - qtd. focos de incêndio',\n",
    "       'BA - qtd. focos de incêndio', 'CE - qtd. focos de incêndio',\n",
    "       'DF - qtd. focos de incêndio', 'ES - qtd. focos de incêndio',\n",
    "       'GO - qtd. focos de incêndio', 'MG - qtd. focos de incêndio',\n",
    "       'PE - qtd. focos de incêndio', 'RJ - qtd. focos de incêndio',\n",
    "       'PI - qtd. focos de incêndio', 'SC - qtd. focos de incêndio',\n",
    "       'SE - qtd. focos de incêndio' ]].loc[[2016,2017]].plot(kind = 'barh', figsize = (20,10),fontsize=14)\n",
    "grafico_barras_amz.set_title(\"Qtd. focos de incêndio - 2016,2017\", fontsize = 20)\n",
    "grafico_barras_amz.set_ylabel(\"Estados\",fontsize=15)\n",
    "grafico_barras_amz.set_xlabel(\"Qtd. focos de incêndio\",fontsize=15)"
   ]
  },
  {
   "cell_type": "code",
   "execution_count": null,
   "metadata": {},
   "outputs": [],
   "source": [
    "##############Análise para os focos de queimadas no ano 2018 e 2019\n",
    "print(\"Quantidade de Focos de Incêndio - 2018,2019\")\n",
    "grafico_barras_amz = df_queimadas_group_by_sem_mes[['AM - qtd. focos de incêndio','MA - qtd. focos de incêndio',\n",
    "       'AC - qtd. focos de incêndio', 'AP - qtd. focos de incêndio',\n",
    "       'MT - qtd. focos de incêndio', 'PA - qtd. focos de incêndio',\n",
    "       'RO - qtd. focos de incêndio', 'RR - qtd. focos de incêndio',\n",
    "       'TO - qtd. focos de incêndio', 'AL - qtd. focos de incêndio',\n",
    "       'BA - qtd. focos de incêndio', 'CE - qtd. focos de incêndio',\n",
    "       'DF - qtd. focos de incêndio', 'ES - qtd. focos de incêndio',\n",
    "       'GO - qtd. focos de incêndio', 'MG - qtd. focos de incêndio',\n",
    "       'PE - qtd. focos de incêndio', 'RJ - qtd. focos de incêndio',\n",
    "       'PI - qtd. focos de incêndio', 'SC - qtd. focos de incêndio',\n",
    "       'SE - qtd. focos de incêndio' ]].loc[[2018,2019]].plot(kind = 'barh', figsize = (20,10),fontsize=14)\n",
    "grafico_barras_amz.set_title(\"Qtd. focos de incêndio - 2018,2019\", fontsize = 20)\n",
    "grafico_barras_amz.set_ylabel(\"Estados\",fontsize=15)\n",
    "grafico_barras_amz.set_xlabel(\"Qtd. focos de incêndio\",fontsize=15)"
   ]
  },
  {
   "cell_type": "code",
   "execution_count": null,
   "metadata": {},
   "outputs": [],
   "source": [
    "#####################################Análises e criação do modelo###################################"
   ]
  },
  {
   "cell_type": "code",
   "execution_count": null,
   "metadata": {},
   "outputs": [],
   "source": [
    "#Análise da discrepância dos valores de variáveis\n",
    "fig = plt.figure(figsize = (20,15))\n",
    "ax = fig.gca()\n",
    "\n",
    "df_queimadas_group_by_sem_mes.hist(bins=10,ax=ax)"
   ]
  },
  {
   "cell_type": "code",
   "execution_count": null,
   "metadata": {},
   "outputs": [],
   "source": [
    "#buscando correlacionamento\n",
    "fig = plt.figure(figsize = (40,15))\n",
    "ax = fig.gca()\n",
    "sns.heatmap(df_queimadas_group_by_sem_mes.corr(),\n",
    "            annot = True,\n",
    "            fmt = '.2f',\n",
    "            cmap='Blues',ax=ax)\n",
    "plt.title('Correlação entre variáveis do Dataset Queimadas')\n",
    "plt.show()"
   ]
  },
  {
   "cell_type": "code",
   "execution_count": null,
   "metadata": {},
   "outputs": [],
   "source": [
    "#Separa features(matriz X:colunas usadas para fazer a predição) de target (coluna y:coluna se quer prever)\n",
    "target = \"somatorio_queimadas_ano_mes\"\n",
    "X = df_queimadas_group_by_sem_mes.drop([target], axis=1)\n",
    "y = df_queimadas_group_by_sem_mes[target]"
   ]
  },
  {
   "cell_type": "code",
   "execution_count": null,
   "metadata": {},
   "outputs": [],
   "source": [
    "X "
   ]
  },
  {
   "cell_type": "code",
   "execution_count": null,
   "metadata": {},
   "outputs": [],
   "source": [
    "y"
   ]
  },
  {
   "cell_type": "code",
   "execution_count": null,
   "metadata": {},
   "outputs": [],
   "source": [
    "#Gera dados de teste e de treino\n",
    "#train_test_split: separar a base de treino e teste\n",
    "xTrain, xTest, yTrain, yTest = train_test_split(X, y, test_size=0.5, random_state=0)\n"
   ]
  },
  {
   "cell_type": "code",
   "execution_count": null,
   "metadata": {},
   "outputs": [],
   "source": []
  },
  {
   "cell_type": "code",
   "execution_count": null,
   "metadata": {},
   "outputs": [],
   "source": [
    "##################Regressão Linear#############################\n",
    "#Define classificador utilizado e treina\n",
    "classifier_lm = LinearRegression()\n",
    "classifier_lm.fit(xTrain, yTrain)"
   ]
  },
  {
   "cell_type": "code",
   "execution_count": null,
   "metadata": {},
   "outputs": [],
   "source": [
    "##########Validação Cruzada para a Regressão Linear\n",
    "kfold  = KFold(n_splits=2, shuffle=True) "
   ]
  },
  {
   "cell_type": "code",
   "execution_count": null,
   "metadata": {},
   "outputs": [],
   "source": [
    "### Aplicação do Kfold no modelo de Regressão linear\n",
    "lm_resultado = cross_val_score(classifier_lm, xTrain, yTrain, cv = kfold)"
   ]
  },
  {
   "cell_type": "code",
   "execution_count": null,
   "metadata": {},
   "outputs": [],
   "source": [
    "print(\"Linear Regression Mean (R^2): {0}\\n\".format(lm_resultado.mean()))"
   ]
  },
  {
   "cell_type": "code",
   "execution_count": null,
   "metadata": {},
   "outputs": [],
   "source": [
    "#Faz predicao com o modelo de teste\n",
    "yPred = classifier.predict(xTest)"
   ]
  },
  {
   "cell_type": "code",
   "execution_count": null,
   "metadata": {},
   "outputs": [],
   "source": [
    "classifier.score(xTest, yTest)"
   ]
  },
  {
   "cell_type": "code",
   "execution_count": null,
   "metadata": {},
   "outputs": [],
   "source": [
    "#Verificar a precisão do modelo\n",
    "prediction_relative_error = [100*abs(pair[0] - pair[1])/pair[1] for pair in list(zip(yPred,yTest))]\n"
   ]
  },
  {
   "cell_type": "code",
   "execution_count": null,
   "metadata": {},
   "outputs": [],
   "source": [
    "#Ordenar a base de testes por ano\n",
    "xTestSorted = xTest.sort_index(axis=0)\n",
    "yTestSorted = [yTest[index] for index in xTestSorted.index]"
   ]
  },
  {
   "cell_type": "code",
   "execution_count": null,
   "metadata": {},
   "outputs": [],
   "source": [
    "xTest"
   ]
  },
  {
   "cell_type": "code",
   "execution_count": null,
   "metadata": {},
   "outputs": [],
   "source": [
    "#Criação de novo dataframe para análise dos valores de predição, erro e o valor que será previsto\n",
    "df_regressao_linear = xTest.copy()\n",
    "df_regressao_linear['prediction'] = yPred\n",
    "df_regressao_linear['relative_error'] = prediction_relative_error\n",
    "df_regressao_linear['Somatório focos de Incêndio'] = yTest\n",
    "df_regressao_linear"
   ]
  },
  {
   "cell_type": "code",
   "execution_count": null,
   "metadata": {},
   "outputs": [],
   "source": [
    "#Ordenar valores anos do nova dataframe\n",
    "df_regressao_linear = df_regressao_linear.sort_values(by='Anos')"
   ]
  },
  {
   "cell_type": "code",
   "execution_count": null,
   "metadata": {},
   "outputs": [],
   "source": [
    "df_regressao_linear[['prediction','Somatório focos de Incêndio']].plot().set_title(\"Predição vs Queimadas - Regressão Linear\", fontsize = 15)"
   ]
  },
  {
   "cell_type": "code",
   "execution_count": null,
   "metadata": {},
   "outputs": [],
   "source": [
    "#Para melhor análise da precisão\n",
    "sns.regplot(x = df_regressao_linear['Somatório focos de Incêndio'], \n",
    "            y = df_regressao_linear['prediction'], \n",
    "            \n",
    "            data = df_regressao_linear)"
   ]
  },
  {
   "cell_type": "code",
   "execution_count": null,
   "metadata": {},
   "outputs": [],
   "source": [
    "#Métricas de Performance\n",
    "#Dados de teste\n",
    "mae_test = m.mean_absolute_error(yTest,yPred)\n",
    "mape_test = np.mean(np.abs(yTest-yPred)/yTest)"
   ]
  },
  {
   "cell_type": "code",
   "execution_count": null,
   "metadata": {},
   "outputs": [],
   "source": [
    "#Verificar o MAE - Curso #Erro Percentual Médio Absoluto (MAPE)\n",
    "data_MAE = {\n",
    "    'DataFrame':['test'],\n",
    "    'MAE':[mae_test],\n",
    "    'MAPE':[mape_test]\n",
    "}\n",
    "df_mp = pd.DataFrame(data_MAE)\n",
    "df_mp\n",
    "#Nos dados de teste, a cada predição que fizer o modelo pode estar 0.011% errado"
   ]
  },
  {
   "cell_type": "code",
   "execution_count": null,
   "metadata": {},
   "outputs": [],
   "source": [
    "######################Modelo de Rede Neural#########################################################\n",
    "#Define classificador utilizado e treina\n",
    "classifier_neural = MLPRegressor()\n",
    "classifier_neural.fit(xTrain, yTrain)\n",
    "\n",
    "#Faz predicao com o modelo de teste\n",
    "yPred = classifier_neural.predict(xTest)\n",
    "\n"
   ]
  },
  {
   "cell_type": "code",
   "execution_count": null,
   "metadata": {},
   "outputs": [],
   "source": [
    "####Validação Cruzada para a Rede Neural\n",
    "Neural_resultado = cross_val_score(classifier_neural, xTrain, yTrain, cv = kfold)\n",
    "print(\"Neural Mean (R^2): {0}\\n\".format(Neural_resultado.mean()))"
   ]
  },
  {
   "cell_type": "code",
   "execution_count": null,
   "metadata": {},
   "outputs": [],
   "source": [
    "#Verificar a precisão do modelo\n",
    "prediction_relative_error_neural = [100*abs(pair[0] - pair[1])/pair[1] for pair in list(zip(yPred,yTest))]"
   ]
  },
  {
   "cell_type": "code",
   "execution_count": null,
   "metadata": {},
   "outputs": [],
   "source": [
    "#Criação de novo dataframe para análise dos valores de predição para rede neural, erro e o valor que será previsto\n",
    "df_teste_neural = xTest.copy()\n",
    "df_teste_neural['prediction'] = yPred\n",
    "df_teste_neural['relative_error'] = prediction_relative_error_neural\n",
    "df_teste_neural['Somatório focos de Incêndio'] = yTest\n",
    "df_teste_neural"
   ]
  },
  {
   "cell_type": "code",
   "execution_count": null,
   "metadata": {},
   "outputs": [],
   "source": [
    "#Ordenar valores anos do nova dataframe\n",
    "df_teste_neural = df_teste_neural.sort_values(by='Anos')"
   ]
  },
  {
   "cell_type": "code",
   "execution_count": null,
   "metadata": {},
   "outputs": [],
   "source": [
    "df_teste_neural[['prediction','Somatório focos de Incêndio']].plot().set_title(\"Predição vs Incêndios\", fontsize = 15)"
   ]
  },
  {
   "cell_type": "code",
   "execution_count": null,
   "metadata": {},
   "outputs": [],
   "source": [
    "#Métricas de Performance - Para rede neural\n",
    "#Dados de teste\n",
    "mae_test = m.mean_absolute_error(yTest,yPred)\n",
    "mape_test = np.mean(np.abs(yTest-yPred)/yTest)"
   ]
  },
  {
   "cell_type": "code",
   "execution_count": null,
   "metadata": {},
   "outputs": [],
   "source": [
    "data_MAE = {\n",
    "    'DataFrame':['test'],\n",
    "    'MAE':[mae_test],\n",
    "    'MAPE':[mape_test]\n",
    "}\n",
    "df_mp = pd.DataFrame(data_MAE)\n",
    "df_mp"
   ]
  },
  {
   "cell_type": "code",
   "execution_count": null,
   "metadata": {},
   "outputs": [],
   "source": [
    "###########################MODELO SVM###########################"
   ]
  },
  {
   "cell_type": "code",
   "execution_count": null,
   "metadata": {},
   "outputs": [],
   "source": [
    "#criando uma instância para o SVC\n",
    "clf = svm.SVC()"
   ]
  },
  {
   "cell_type": "code",
   "execution_count": null,
   "metadata": {},
   "outputs": [],
   "source": [
    "#Necessário alterar o tipo do dado\n",
    "yTrain = yTrain.astype(int)"
   ]
  },
  {
   "cell_type": "code",
   "execution_count": null,
   "metadata": {},
   "outputs": [],
   "source": [
    "#treinando o modelo\n",
    "clf.fit(xTrain,yTrain)\n",
    "yPred = clf.predict(xTest)\n",
    "\n"
   ]
  },
  {
   "cell_type": "code",
   "execution_count": null,
   "metadata": {},
   "outputs": [],
   "source": [
    "#Verificar a precisão do modelo\n",
    "prediction_relative_error_svm = [100*abs(pair[0] - pair[1])/pair[1] for pair in list(zip(yPred,yTest))]"
   ]
  },
  {
   "cell_type": "code",
   "execution_count": null,
   "metadata": {},
   "outputs": [],
   "source": [
    "df_teste_SVM = xTest.copy()\n",
    "df_teste_SVM['prediction'] = yPred\n",
    "df_teste_SVM['relative error'] = prediction_relative_error_svm\n",
    "df_teste_SVM['Somatório de qtd. de Incêndios'] = yTest\n",
    "df_teste_SVM"
   ]
  },
  {
   "cell_type": "code",
   "execution_count": null,
   "metadata": {},
   "outputs": [],
   "source": [
    "df_teste_SVM = df_teste_SVM.sort_values(by='Anos')"
   ]
  },
  {
   "cell_type": "code",
   "execution_count": null,
   "metadata": {},
   "outputs": [],
   "source": [
    "df_teste_SVM[['prediction','Somatório de qtd. de Incêndios']].plot().set_title(\"Somatório de qtd. de Incêndios\", fontsize = 15)"
   ]
  },
  {
   "cell_type": "code",
   "execution_count": null,
   "metadata": {},
   "outputs": [],
   "source": [
    "#Para melhor análise da precisão\n",
    "sns.regplot(x = df_teste_SVM['Somatório de qtd. de Incêndios'], \n",
    "            y = df_teste_SVM['prediction'], \n",
    "            \n",
    "            data = df_teste_SVM)"
   ]
  },
  {
   "cell_type": "code",
   "execution_count": null,
   "metadata": {},
   "outputs": [],
   "source": [
    "#Métricas de Performance - Para SVM\n",
    "#Dados de teste\n",
    "mae_test = m.mean_absolute_error(yTest,yPred)\n",
    "mape_test = np.mean(np.abs(yTest-yPred)/yTest)"
   ]
  },
  {
   "cell_type": "code",
   "execution_count": null,
   "metadata": {},
   "outputs": [],
   "source": [
    "data_MAE = {\n",
    "    'DataFrame':['test'],\n",
    "    'MAE':[mae_test],\n",
    "    'MAPE':[mape_test]\n",
    "}\n",
    "df_mp = pd.DataFrame(data_MAE)\n",
    "df_mp"
   ]
  }
 ],
 "metadata": {
  "kernelspec": {
   "display_name": "Python 3",
   "language": "python",
   "name": "python3"
  },
  "language_info": {
   "codemirror_mode": {
    "name": "ipython",
    "version": 3
   },
   "file_extension": ".py",
   "mimetype": "text/x-python",
   "name": "python",
   "nbconvert_exporter": "python",
   "pygments_lexer": "ipython3",
   "version": "3.7.6"
  }
 },
 "nbformat": 4,
 "nbformat_minor": 4
}
