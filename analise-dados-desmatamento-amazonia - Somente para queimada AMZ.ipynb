{
 "cells": [
  {
   "cell_type": "markdown",
   "metadata": {},
   "source": [
    "# Análise dos dados de queimadas no estados brasileiros - AMZ\n",
    "\n",
    "O objetivo deste trabalho consiste em estimar a quantidade de focos de incêndio nos estados brasileiros em anos futuros, considerando os dados dos anos atual e anteriores"
   ]
  },
  {
   "cell_type": "code",
   "execution_count": 1,
   "metadata": {},
   "outputs": [],
   "source": [
    "import numpy as np\n",
    "import pandas as pd\n",
    "from matplotlib import pyplot as plt\n",
    "from enum import Enum\n",
    "import seaborn as sns\n",
    "from sklearn.model_selection import train_test_split\n",
    "from sklearn.neural_network import MLPRegressor\n",
    "from sklearn import svm\n",
    "from sklearn.model_selection import cross_val_score\n",
    "from sklearn.model_selection import KFold\n",
    "from sklearn.linear_model import LinearRegression\n",
    "from sklearn.linear_model import ElasticNet\n",
    "from sklearn.linear_model import Ridge\n",
    "from sklearn.linear_model import Lasso"
   ]
  },
  {
   "cell_type": "code",
   "execution_count": 2,
   "metadata": {},
   "outputs": [],
   "source": [
    "class DataSourceEnum(Enum):\n",
    "    GOOGLE_DRIVE = 'google drive'\n",
    "    \n",
    "class DataSourceNotFoundException(Exception):\n",
    "    def __init__(self):\n",
    "        super().__init__(\"Fonte para buscar dados é inválida.\")\n",
    "    \n",
    "    \n",
    "    \n",
    "    \n",
    "def fetchCSV(url: str, source: DataSourceEnum, encoding: str = 'UTF-8'):\n",
    "    if source == DataSourceEnum.GOOGLE_DRIVE:\n",
    "        baseUrl = \"https://drive.google.com/uc?id=\"\n",
    "        csvData = f\"{baseUrl}{url.split('/')[-2]}\"\n",
    "    else:\n",
    "        raise DataSourceNotFoundException()\n",
    "        \n",
    "    if encoding:\n",
    "        return pd.read_csv(csvData,encoding=encoding)\n",
    "    return pd.read_csv(csvData)\n",
    "\n",
    "\n",
    "def cleanData(dataframe, inplace = False):\n",
    "    return dataframe.dropna(inplace=inplace).drop_duplicates(inplace=inplace)        \n",
    "\n",
    "class DateMonthEnum(Enum):\n",
    "    JAN = \"Janeiro\"\n",
    "    FEB = \"Fevereiro\"\n",
    "    MAR = \"Março\"\n",
    "    APR = \"Abril\"\n",
    "    MAY = \"Maio\"\n",
    "    JUN = \"Junho\"\n",
    "    JUL = \"Julho\"\n",
    "    AUG = \"Agosto\"\n",
    "    SEP = \"Setembro\"\n",
    "    OCT = \"Outubro\"\n",
    "    NOV = \"Novembro\"\n",
    "    DEC = \"Dezembro\"\n",
    "\n",
    "    def getMonths():\n",
    "        return DateMonthEnum.__members__.values()\n",
    "\n",
    "numericDateMonth = {\n",
    "    DateMonthEnum.JAN: 1,\n",
    "    DateMonthEnum.FEB: 2,\n",
    "    DateMonthEnum.MAR: 3,\n",
    "    DateMonthEnum.APR: 4,\n",
    "    DateMonthEnum.MAY: 5,\n",
    "    DateMonthEnum.JUN: 6,\n",
    "    DateMonthEnum.JUL: 7,\n",
    "    DateMonthEnum.AUG: 8,\n",
    "    DateMonthEnum.SEP: 9,\n",
    "    DateMonthEnum.OCT: 10,\n",
    "    DateMonthEnum.NOV: 11,\n",
    "    DateMonthEnum.DEC: 12,\n",
    "}\n",
    "    \n",
    "def altermonth(dataframe):\n",
    "    for month in DateMonthEnum.getMonths():\n",
    "        dataframe.month[dataframe.month==month.value] = numericDateMonth[month]\n",
    "        \n",
    "    return dataframe\n",
    "\n",
    "   \n",
    "def mergeDataBases(db1, db2):\n",
    "    db3 = pd.concat([db1,db2])\n",
    "    return db3\n",
    "\n",
    "def selection_variables_train_test(x,y):\n",
    "    xTrain, xTest, yTrain, yTest = train_test_split(X, y)\n",
    "    return xTrain, xTest, yTrain, yTest\n",
    "\n",
    "\n",
    "def model_regression_linear(xTrain,yTrain):\n",
    "    #regr_linear = LinearRegression().fit(xTrain, yTrain)\n",
    "    regr_linear = RandomForestRegressor().fit(xTrain,yTrain)\n",
    "    return regr_linear\n",
    "   \n",
    "def fit_model(classifier,xTrain,yTrain):\n",
    "    classifier.fit(xTrain,yTrain)\n",
    "    return classifier\n",
    "\n",
    "\n",
    "def plot_graph(dataframe,Titulo:\"Gráfico\"):\n",
    "    \n",
    "    return dataframe.plot(figsize=(10, 6)).set_title(Titulo, fontsize = 15)\n",
    "\n",
    "def create_dataframe(xTest,yPred,prediction_relative_error,yTest):\n",
    "    \n",
    "    dataframe = xTest.copy()\n",
    "    dataframe['prediction'] = yPred\n",
    "    dataframe['relative_error'] = prediction_relative_error\n",
    "    dataframe['Focos de incêndio'] = yTest\n",
    "    \n",
    "    return dataframe\n",
    "\n",
    "\n",
    "def cross_validation(x_axis,y_axis):\n",
    "  kfold  = KFold(n_splits=10, shuffle=True) # shuffle=True, Shuffle (embaralhar) the data.\n",
    "\n",
    "  # Axis\n",
    "  x = x_axis\n",
    "  y = y_axis\n",
    "\n",
    "  # Models instances.\n",
    "  linearRegression = LinearRegression()\n",
    "  elasticNet       = ElasticNet()\n",
    "  ridge            = Ridge()\n",
    "  lasso            = Lasso()\n",
    "  NeuralRegression = MLPRegressor()\n",
    "\n",
    "  # Applyes KFold to models.\n",
    "  linearRegression_result = cross_val_score(linearRegression, x, y, cv = kfold)\n",
    "  elasticNet_result       = cross_val_score(elasticNet, x, y, cv = kfold)\n",
    "  ridge_result            = cross_val_score(ridge, x, y, cv = kfold)\n",
    "  lasso_result            = cross_val_score(lasso, x, y, cv = kfold)\n",
    "  NeuralRegression_result = cross_val_score(NeuralRegression, x, y, cv = kfold)\n",
    "\n",
    "  print(\"Linear Regression Média (R^2): {0}\\nElastic Net Média (R^2): {1}\\nRidge Média (R^2): {2}\\nLasso Média (R^2): {3}\\nNeural (R^2): {4}\".format(linearRegression_result.mean(), elasticNet_result.mean(), ridge_result.mean(), lasso_result.mean(),NeuralRegression_result.mean()))\n",
    "\n",
    "\n",
    "\n",
    "\n",
    "\n",
    "\n"
   ]
  },
  {
   "cell_type": "code",
   "execution_count": 3,
   "metadata": {},
   "outputs": [],
   "source": [
    "#Dados queimadas - Amazônia Legal\n",
    "forestFiresAM = fetchCSV(url='https://drive.google.com/file/d/1vRVra-yLlZxknweY-6YIQQJjWCqK75mT/view?usp=sharing', source=DataSourceEnum.GOOGLE_DRIVE)\n",
    "forestFiresAM = cleanData(forestFiresAM)\n",
    "\n",
    "#Dados queimadas - Brasil\n",
    "forestFires = fetchCSV(url='https://drive.google.com/file/d/1VdFxMxEWzUuqYLTfv2grmFD2tDRdOez-/view?usp=sharing', source=DataSourceEnum.GOOGLE_DRIVE, encoding='latin-1')\n",
    "forestFires = cleanData(forestFires)\n",
    "forestFires\n",
    "\n",
    "#Dados Desmatamento - Amazônia Legal\n",
    "deforestation = fetchCSV(url='https://drive.google.com/file/d/1gF9JQPHV7dbviqLl8Z-MY_C8iyF1OREd/view?usp=sharing', source=DataSourceEnum.GOOGLE_DRIVE, encoding='latin-1')\n",
    "deforestation = cleanData(deforestation)\n",
    "\n",
    "\n"
   ]
  },
  {
   "cell_type": "code",
   "execution_count": 4,
   "metadata": {},
   "outputs": [],
   "source": [
    "#Análise dos dataframes"
   ]
  },
  {
   "cell_type": "code",
   "execution_count": 5,
   "metadata": {},
   "outputs": [
    {
     "name": "stdout",
     "output_type": "stream",
     "text": [
      "<class 'pandas.core.frame.DataFrame'>\n",
      "Int64Index: 16 entries, 0 to 15\n",
      "Data columns (total 11 columns):\n",
      " #   Column          Non-Null Count  Dtype\n",
      "---  ------          --------------  -----\n",
      " 0   ï»¿Ano/Estados  16 non-null     int64\n",
      " 1   AC              16 non-null     int64\n",
      " 2   AM              16 non-null     int64\n",
      " 3   AP              16 non-null     int64\n",
      " 4   MA              16 non-null     int64\n",
      " 5   MT              16 non-null     int64\n",
      " 6   PA              16 non-null     int64\n",
      " 7   RO              16 non-null     int64\n",
      " 8   RR              16 non-null     int64\n",
      " 9   TO              16 non-null     int64\n",
      " 10  AMZ LEGAL       16 non-null     int64\n",
      "dtypes: int64(11)\n",
      "memory usage: 1.5 KB\n"
     ]
    }
   ],
   "source": [
    "deforestation.info()"
   ]
  },
  {
   "cell_type": "code",
   "execution_count": 6,
   "metadata": {},
   "outputs": [
    {
     "name": "stdout",
     "output_type": "stream",
     "text": [
      "<class 'pandas.core.frame.DataFrame'>\n",
      "Int64Index: 6422 entries, 0 to 6453\n",
      "Data columns (total 5 columns):\n",
      " #   Column  Non-Null Count  Dtype  \n",
      "---  ------  --------------  -----  \n",
      " 0   year    6422 non-null   int64  \n",
      " 1   state   6422 non-null   object \n",
      " 2   month   6422 non-null   object \n",
      " 3   number  6422 non-null   float64\n",
      " 4   date    6422 non-null   object \n",
      "dtypes: float64(1), int64(1), object(3)\n",
      "memory usage: 301.0+ KB\n"
     ]
    }
   ],
   "source": [
    "forestFires.info()"
   ]
  },
  {
   "cell_type": "code",
   "execution_count": 7,
   "metadata": {},
   "outputs": [
    {
     "name": "stdout",
     "output_type": "stream",
     "text": [
      "<class 'pandas.core.frame.DataFrame'>\n",
      "Int64Index: 2104 entries, 0 to 2103\n",
      "Data columns (total 6 columns):\n",
      " #   Column     Non-Null Count  Dtype  \n",
      "---  ------     --------------  -----  \n",
      " 0   year       2104 non-null   int64  \n",
      " 1   month      2104 non-null   int64  \n",
      " 2   state      2104 non-null   object \n",
      " 3   latitude   2104 non-null   float64\n",
      " 4   longitude  2104 non-null   float64\n",
      " 5   firespots  2104 non-null   int64  \n",
      "dtypes: float64(2), int64(3), object(1)\n",
      "memory usage: 115.1+ KB\n"
     ]
    }
   ],
   "source": [
    "forestFiresAM.info()"
   ]
  },
  {
   "cell_type": "code",
   "execution_count": 8,
   "metadata": {},
   "outputs": [
    {
     "data": {
      "text/plain": [
       "Index(['ï»¿Ano/Estados', 'AC', 'AM', 'AP', 'MA', 'MT', 'PA', 'RO', 'RR', 'TO',\n",
       "       'AMZ LEGAL'],\n",
       "      dtype='object')"
      ]
     },
     "execution_count": 8,
     "metadata": {},
     "output_type": "execute_result"
    }
   ],
   "source": [
    "#Conhecer variáveis disponíveis \n",
    "deforestation.columns"
   ]
  },
  {
   "cell_type": "code",
   "execution_count": 9,
   "metadata": {},
   "outputs": [
    {
     "data": {
      "text/plain": [
       "Index(['year', 'state', 'month', 'number', 'date'], dtype='object')"
      ]
     },
     "execution_count": 9,
     "metadata": {},
     "output_type": "execute_result"
    }
   ],
   "source": [
    "forestFires.columns"
   ]
  },
  {
   "cell_type": "code",
   "execution_count": 10,
   "metadata": {},
   "outputs": [
    {
     "data": {
      "text/plain": [
       "Index(['year', 'month', 'state', 'latitude', 'longitude', 'firespots'], dtype='object')"
      ]
     },
     "execution_count": 10,
     "metadata": {},
     "output_type": "execute_result"
    }
   ],
   "source": [
    "forestFiresAM.columns"
   ]
  },
  {
   "cell_type": "code",
   "execution_count": 11,
   "metadata": {},
   "outputs": [
    {
     "data": {
      "text/html": [
       "<div>\n",
       "<style scoped>\n",
       "    .dataframe tbody tr th:only-of-type {\n",
       "        vertical-align: middle;\n",
       "    }\n",
       "\n",
       "    .dataframe tbody tr th {\n",
       "        vertical-align: top;\n",
       "    }\n",
       "\n",
       "    .dataframe thead th {\n",
       "        text-align: right;\n",
       "    }\n",
       "</style>\n",
       "<table border=\"1\" class=\"dataframe\">\n",
       "  <thead>\n",
       "    <tr style=\"text-align: right;\">\n",
       "      <th></th>\n",
       "      <th>ï»¿Ano/Estados</th>\n",
       "      <th>AC</th>\n",
       "      <th>AM</th>\n",
       "      <th>AP</th>\n",
       "      <th>MA</th>\n",
       "      <th>MT</th>\n",
       "      <th>PA</th>\n",
       "      <th>RO</th>\n",
       "      <th>RR</th>\n",
       "      <th>TO</th>\n",
       "      <th>AMZ LEGAL</th>\n",
       "    </tr>\n",
       "  </thead>\n",
       "  <tbody>\n",
       "    <tr>\n",
       "      <th>0</th>\n",
       "      <td>2004</td>\n",
       "      <td>728</td>\n",
       "      <td>1232</td>\n",
       "      <td>46</td>\n",
       "      <td>755</td>\n",
       "      <td>11814</td>\n",
       "      <td>8870</td>\n",
       "      <td>3858</td>\n",
       "      <td>311</td>\n",
       "      <td>158</td>\n",
       "      <td>27772</td>\n",
       "    </tr>\n",
       "    <tr>\n",
       "      <th>1</th>\n",
       "      <td>2005</td>\n",
       "      <td>592</td>\n",
       "      <td>775</td>\n",
       "      <td>33</td>\n",
       "      <td>922</td>\n",
       "      <td>7145</td>\n",
       "      <td>5899</td>\n",
       "      <td>3244</td>\n",
       "      <td>133</td>\n",
       "      <td>271</td>\n",
       "      <td>19014</td>\n",
       "    </tr>\n",
       "    <tr>\n",
       "      <th>2</th>\n",
       "      <td>2006</td>\n",
       "      <td>398</td>\n",
       "      <td>788</td>\n",
       "      <td>30</td>\n",
       "      <td>674</td>\n",
       "      <td>4333</td>\n",
       "      <td>5659</td>\n",
       "      <td>2049</td>\n",
       "      <td>231</td>\n",
       "      <td>124</td>\n",
       "      <td>14286</td>\n",
       "    </tr>\n",
       "    <tr>\n",
       "      <th>3</th>\n",
       "      <td>2007</td>\n",
       "      <td>184</td>\n",
       "      <td>610</td>\n",
       "      <td>39</td>\n",
       "      <td>631</td>\n",
       "      <td>2678</td>\n",
       "      <td>5526</td>\n",
       "      <td>1611</td>\n",
       "      <td>309</td>\n",
       "      <td>63</td>\n",
       "      <td>11651</td>\n",
       "    </tr>\n",
       "    <tr>\n",
       "      <th>4</th>\n",
       "      <td>2008</td>\n",
       "      <td>254</td>\n",
       "      <td>604</td>\n",
       "      <td>100</td>\n",
       "      <td>1271</td>\n",
       "      <td>3258</td>\n",
       "      <td>5607</td>\n",
       "      <td>1136</td>\n",
       "      <td>574</td>\n",
       "      <td>107</td>\n",
       "      <td>12911</td>\n",
       "    </tr>\n",
       "  </tbody>\n",
       "</table>\n",
       "</div>"
      ],
      "text/plain": [
       "   ï»¿Ano/Estados   AC    AM   AP    MA     MT    PA    RO   RR   TO  \\\n",
       "0            2004  728  1232   46   755  11814  8870  3858  311  158   \n",
       "1            2005  592   775   33   922   7145  5899  3244  133  271   \n",
       "2            2006  398   788   30   674   4333  5659  2049  231  124   \n",
       "3            2007  184   610   39   631   2678  5526  1611  309   63   \n",
       "4            2008  254   604  100  1271   3258  5607  1136  574  107   \n",
       "\n",
       "   AMZ LEGAL  \n",
       "0      27772  \n",
       "1      19014  \n",
       "2      14286  \n",
       "3      11651  \n",
       "4      12911  "
      ]
     },
     "execution_count": 11,
     "metadata": {},
     "output_type": "execute_result"
    }
   ],
   "source": [
    "deforestation.head()"
   ]
  },
  {
   "cell_type": "code",
   "execution_count": 12,
   "metadata": {},
   "outputs": [
    {
     "data": {
      "text/html": [
       "<div>\n",
       "<style scoped>\n",
       "    .dataframe tbody tr th:only-of-type {\n",
       "        vertical-align: middle;\n",
       "    }\n",
       "\n",
       "    .dataframe tbody tr th {\n",
       "        vertical-align: top;\n",
       "    }\n",
       "\n",
       "    .dataframe thead th {\n",
       "        text-align: right;\n",
       "    }\n",
       "</style>\n",
       "<table border=\"1\" class=\"dataframe\">\n",
       "  <thead>\n",
       "    <tr style=\"text-align: right;\">\n",
       "      <th></th>\n",
       "      <th>year</th>\n",
       "      <th>state</th>\n",
       "      <th>month</th>\n",
       "      <th>number</th>\n",
       "      <th>date</th>\n",
       "    </tr>\n",
       "  </thead>\n",
       "  <tbody>\n",
       "    <tr>\n",
       "      <th>0</th>\n",
       "      <td>1998</td>\n",
       "      <td>Acre</td>\n",
       "      <td>Janeiro</td>\n",
       "      <td>0.0</td>\n",
       "      <td>1998-01-01</td>\n",
       "    </tr>\n",
       "    <tr>\n",
       "      <th>1</th>\n",
       "      <td>1999</td>\n",
       "      <td>Acre</td>\n",
       "      <td>Janeiro</td>\n",
       "      <td>0.0</td>\n",
       "      <td>1999-01-01</td>\n",
       "    </tr>\n",
       "    <tr>\n",
       "      <th>2</th>\n",
       "      <td>2000</td>\n",
       "      <td>Acre</td>\n",
       "      <td>Janeiro</td>\n",
       "      <td>0.0</td>\n",
       "      <td>2000-01-01</td>\n",
       "    </tr>\n",
       "    <tr>\n",
       "      <th>3</th>\n",
       "      <td>2001</td>\n",
       "      <td>Acre</td>\n",
       "      <td>Janeiro</td>\n",
       "      <td>0.0</td>\n",
       "      <td>2001-01-01</td>\n",
       "    </tr>\n",
       "    <tr>\n",
       "      <th>4</th>\n",
       "      <td>2002</td>\n",
       "      <td>Acre</td>\n",
       "      <td>Janeiro</td>\n",
       "      <td>0.0</td>\n",
       "      <td>2002-01-01</td>\n",
       "    </tr>\n",
       "  </tbody>\n",
       "</table>\n",
       "</div>"
      ],
      "text/plain": [
       "   year state    month  number        date\n",
       "0  1998  Acre  Janeiro     0.0  1998-01-01\n",
       "1  1999  Acre  Janeiro     0.0  1999-01-01\n",
       "2  2000  Acre  Janeiro     0.0  2000-01-01\n",
       "3  2001  Acre  Janeiro     0.0  2001-01-01\n",
       "4  2002  Acre  Janeiro     0.0  2002-01-01"
      ]
     },
     "execution_count": 12,
     "metadata": {},
     "output_type": "execute_result"
    }
   ],
   "source": [
    "forestFires.head()"
   ]
  },
  {
   "cell_type": "code",
   "execution_count": 13,
   "metadata": {},
   "outputs": [
    {
     "data": {
      "text/html": [
       "<div>\n",
       "<style scoped>\n",
       "    .dataframe tbody tr th:only-of-type {\n",
       "        vertical-align: middle;\n",
       "    }\n",
       "\n",
       "    .dataframe tbody tr th {\n",
       "        vertical-align: top;\n",
       "    }\n",
       "\n",
       "    .dataframe thead th {\n",
       "        text-align: right;\n",
       "    }\n",
       "</style>\n",
       "<table border=\"1\" class=\"dataframe\">\n",
       "  <thead>\n",
       "    <tr style=\"text-align: right;\">\n",
       "      <th></th>\n",
       "      <th>year</th>\n",
       "      <th>month</th>\n",
       "      <th>state</th>\n",
       "      <th>latitude</th>\n",
       "      <th>longitude</th>\n",
       "      <th>firespots</th>\n",
       "    </tr>\n",
       "  </thead>\n",
       "  <tbody>\n",
       "    <tr>\n",
       "      <th>0</th>\n",
       "      <td>1999</td>\n",
       "      <td>1</td>\n",
       "      <td>AMAZONAS</td>\n",
       "      <td>-2.371113</td>\n",
       "      <td>-59.899933</td>\n",
       "      <td>3</td>\n",
       "    </tr>\n",
       "    <tr>\n",
       "      <th>1</th>\n",
       "      <td>1999</td>\n",
       "      <td>1</td>\n",
       "      <td>MARANHAO</td>\n",
       "      <td>-2.257395</td>\n",
       "      <td>-45.487831</td>\n",
       "      <td>36</td>\n",
       "    </tr>\n",
       "    <tr>\n",
       "      <th>2</th>\n",
       "      <td>1999</td>\n",
       "      <td>1</td>\n",
       "      <td>MATO GROSSO</td>\n",
       "      <td>-12.660633</td>\n",
       "      <td>-55.057989</td>\n",
       "      <td>18</td>\n",
       "    </tr>\n",
       "    <tr>\n",
       "      <th>3</th>\n",
       "      <td>1999</td>\n",
       "      <td>1</td>\n",
       "      <td>PARA</td>\n",
       "      <td>-2.474820</td>\n",
       "      <td>-48.546967</td>\n",
       "      <td>87</td>\n",
       "    </tr>\n",
       "    <tr>\n",
       "      <th>4</th>\n",
       "      <td>1999</td>\n",
       "      <td>1</td>\n",
       "      <td>RONDONIA</td>\n",
       "      <td>-12.861700</td>\n",
       "      <td>-60.513100</td>\n",
       "      <td>1</td>\n",
       "    </tr>\n",
       "  </tbody>\n",
       "</table>\n",
       "</div>"
      ],
      "text/plain": [
       "   year  month        state   latitude  longitude  firespots\n",
       "0  1999      1     AMAZONAS  -2.371113 -59.899933          3\n",
       "1  1999      1     MARANHAO  -2.257395 -45.487831         36\n",
       "2  1999      1  MATO GROSSO -12.660633 -55.057989         18\n",
       "3  1999      1         PARA  -2.474820 -48.546967         87\n",
       "4  1999      1     RONDONIA -12.861700 -60.513100          1"
      ]
     },
     "execution_count": 13,
     "metadata": {},
     "output_type": "execute_result"
    }
   ],
   "source": [
    "forestFiresAM.head()"
   ]
  },
  {
   "cell_type": "code",
   "execution_count": 14,
   "metadata": {},
   "outputs": [
    {
     "name": "stderr",
     "output_type": "stream",
     "text": [
      "C:\\Users\\alyne\\anaconda3\\lib\\site-packages\\ipykernel_launcher.py:60: SettingWithCopyWarning: \n",
      "A value is trying to be set on a copy of a slice from a DataFrame\n",
      "\n",
      "See the caveats in the documentation: https://pandas.pydata.org/pandas-docs/stable/user_guide/indexing.html#returning-a-view-versus-a-copy\n"
     ]
    },
    {
     "data": {
      "text/html": [
       "<div>\n",
       "<style scoped>\n",
       "    .dataframe tbody tr th:only-of-type {\n",
       "        vertical-align: middle;\n",
       "    }\n",
       "\n",
       "    .dataframe tbody tr th {\n",
       "        vertical-align: top;\n",
       "    }\n",
       "\n",
       "    .dataframe thead th {\n",
       "        text-align: right;\n",
       "    }\n",
       "</style>\n",
       "<table border=\"1\" class=\"dataframe\">\n",
       "  <thead>\n",
       "    <tr style=\"text-align: right;\">\n",
       "      <th></th>\n",
       "      <th>year</th>\n",
       "      <th>state</th>\n",
       "      <th>month</th>\n",
       "      <th>number</th>\n",
       "      <th>date</th>\n",
       "    </tr>\n",
       "  </thead>\n",
       "  <tbody>\n",
       "    <tr>\n",
       "      <th>0</th>\n",
       "      <td>1998</td>\n",
       "      <td>Acre</td>\n",
       "      <td>1</td>\n",
       "      <td>0.0</td>\n",
       "      <td>1998-01-01</td>\n",
       "    </tr>\n",
       "    <tr>\n",
       "      <th>1</th>\n",
       "      <td>1999</td>\n",
       "      <td>Acre</td>\n",
       "      <td>1</td>\n",
       "      <td>0.0</td>\n",
       "      <td>1999-01-01</td>\n",
       "    </tr>\n",
       "    <tr>\n",
       "      <th>2</th>\n",
       "      <td>2000</td>\n",
       "      <td>Acre</td>\n",
       "      <td>1</td>\n",
       "      <td>0.0</td>\n",
       "      <td>2000-01-01</td>\n",
       "    </tr>\n",
       "    <tr>\n",
       "      <th>3</th>\n",
       "      <td>2001</td>\n",
       "      <td>Acre</td>\n",
       "      <td>1</td>\n",
       "      <td>0.0</td>\n",
       "      <td>2001-01-01</td>\n",
       "    </tr>\n",
       "    <tr>\n",
       "      <th>4</th>\n",
       "      <td>2002</td>\n",
       "      <td>Acre</td>\n",
       "      <td>1</td>\n",
       "      <td>0.0</td>\n",
       "      <td>2002-01-01</td>\n",
       "    </tr>\n",
       "    <tr>\n",
       "      <th>...</th>\n",
       "      <td>...</td>\n",
       "      <td>...</td>\n",
       "      <td>...</td>\n",
       "      <td>...</td>\n",
       "      <td>...</td>\n",
       "    </tr>\n",
       "    <tr>\n",
       "      <th>6449</th>\n",
       "      <td>2012</td>\n",
       "      <td>Tocantins</td>\n",
       "      <td>12</td>\n",
       "      <td>128.0</td>\n",
       "      <td>2012-01-01</td>\n",
       "    </tr>\n",
       "    <tr>\n",
       "      <th>6450</th>\n",
       "      <td>2013</td>\n",
       "      <td>Tocantins</td>\n",
       "      <td>12</td>\n",
       "      <td>85.0</td>\n",
       "      <td>2013-01-01</td>\n",
       "    </tr>\n",
       "    <tr>\n",
       "      <th>6451</th>\n",
       "      <td>2014</td>\n",
       "      <td>Tocantins</td>\n",
       "      <td>12</td>\n",
       "      <td>223.0</td>\n",
       "      <td>2014-01-01</td>\n",
       "    </tr>\n",
       "    <tr>\n",
       "      <th>6452</th>\n",
       "      <td>2015</td>\n",
       "      <td>Tocantins</td>\n",
       "      <td>12</td>\n",
       "      <td>373.0</td>\n",
       "      <td>2015-01-01</td>\n",
       "    </tr>\n",
       "    <tr>\n",
       "      <th>6453</th>\n",
       "      <td>2016</td>\n",
       "      <td>Tocantins</td>\n",
       "      <td>12</td>\n",
       "      <td>119.0</td>\n",
       "      <td>2016-01-01</td>\n",
       "    </tr>\n",
       "  </tbody>\n",
       "</table>\n",
       "<p>6422 rows × 5 columns</p>\n",
       "</div>"
      ],
      "text/plain": [
       "      year      state month  number        date\n",
       "0     1998       Acre     1     0.0  1998-01-01\n",
       "1     1999       Acre     1     0.0  1999-01-01\n",
       "2     2000       Acre     1     0.0  2000-01-01\n",
       "3     2001       Acre     1     0.0  2001-01-01\n",
       "4     2002       Acre     1     0.0  2002-01-01\n",
       "...    ...        ...   ...     ...         ...\n",
       "6449  2012  Tocantins    12   128.0  2012-01-01\n",
       "6450  2013  Tocantins    12    85.0  2013-01-01\n",
       "6451  2014  Tocantins    12   223.0  2014-01-01\n",
       "6452  2015  Tocantins    12   373.0  2015-01-01\n",
       "6453  2016  Tocantins    12   119.0  2016-01-01\n",
       "\n",
       "[6422 rows x 5 columns]"
      ]
     },
     "execution_count": 14,
     "metadata": {},
     "output_type": "execute_result"
    }
   ],
   "source": [
    "#Ajustar meses para Dataframe com todos os estados de queimada\n",
    "forestFires = altermonth(forestFires)\n",
    "forestFires"
   ]
  },
  {
   "cell_type": "code",
   "execution_count": 15,
   "metadata": {},
   "outputs": [
    {
     "data": {
      "text/plain": [
       "count     2104.000000\n",
       "mean      1167.417776\n",
       "std       2959.558714\n",
       "min          1.000000\n",
       "25%         16.000000\n",
       "50%        121.000000\n",
       "75%        755.000000\n",
       "max      37926.000000\n",
       "Name: firespots, dtype: float64"
      ]
     },
     "execution_count": 15,
     "metadata": {},
     "output_type": "execute_result"
    }
   ],
   "source": [
    "### Análise dos dados\n",
    "forestFiresAM['firespots'].describe()"
   ]
  },
  {
   "cell_type": "code",
   "execution_count": 16,
   "metadata": {},
   "outputs": [
    {
     "name": "stdout",
     "output_type": "stream",
     "text": [
      "Max number of registered fires in a month:  37926\n",
      "State:  PARA\n",
      "Month:  8\n",
      "Year:  2002\n"
     ]
    }
   ],
   "source": [
    "print('Max number of registered fires in a month: ',forestFiresAM['firespots'].max())\n",
    "print('State: ',forestFiresAM[forestFiresAM['firespots'] ==  forestFiresAM['firespots'].max()]['state'].iloc[0])\n",
    "print('Month: ',forestFiresAM[forestFiresAM['firespots'] ==  forestFiresAM['firespots'].max()]['month'].iloc[0])\n",
    "print('Year: ',forestFiresAM[forestFiresAM['firespots'] ==  forestFiresAM['firespots'].max()]['year'].iloc[0])"
   ]
  },
  {
   "cell_type": "code",
   "execution_count": null,
   "metadata": {},
   "outputs": [],
   "source": [
    "print('Min number of registered fires in a month: ',forestFiresAM['firespots'].min())\n",
    "print('State: ',forestFiresAM[forestFiresAM['firespots'] ==  forestFiresAM['firespots'].min()]['state'].iloc[0])\n",
    "print('Month: ',forestFiresAM[forestFiresAM['firespots'] ==  forestFiresAM['firespots'].min()]['month'].iloc[0])\n",
    "print('Year: ',forestFiresAM[forestFiresAM['firespots'] ==  forestFiresAM['firespots'].min()]['year'].iloc[0])"
   ]
  },
  {
   "cell_type": "code",
   "execution_count": 17,
   "metadata": {},
   "outputs": [
    {
     "data": {
      "text/plain": [
       "<seaborn.axisgrid.FacetGrid at 0x23b2d9bfac8>"
      ]
     },
     "execution_count": 17,
     "metadata": {},
     "output_type": "execute_result"
    },
    {
     "data": {
      "image/png": "[encoded data removed]",
      "text/plain": [
       "<Figure size 1800x360 with 1 Axes>"
      ]
     },
     "metadata": {
      "needs_background": "light"
     },
     "output_type": "display_data"
    }
   ],
   "source": [
    "sns.catplot(x='month', y='firespots', kind='bar',data=forestFiresAM[['month','firespots']], aspect=5, estimator=sum)"
   ]
  },
  {
   "cell_type": "code",
   "execution_count": 18,
   "metadata": {},
   "outputs": [
    {
     "data": {
      "text/plain": [
       "<seaborn.axisgrid.FacetGrid at 0x23b2ddd2f48>"
      ]
     },
     "execution_count": 18,
     "metadata": {},
     "output_type": "execute_result"
    },
    {
     "data": {
      "image/png": "[encoded data removed]",
      "text/plain": [
       "<Figure size 1800x360 with 1 Axes>"
      ]
     },
     "metadata": {
      "needs_background": "light"
     },
     "output_type": "display_data"
    }
   ],
   "source": [
    "sns.catplot(x='state', y='firespots', kind='bar',data=forestFiresAM[['state','firespots']], aspect=5, estimator=sum)"
   ]
  },
  {
   "cell_type": "code",
   "execution_count": 19,
   "metadata": {},
   "outputs": [
    {
     "data": {
      "text/plain": [
       "<seaborn.axisgrid.FacetGrid at 0x23b2de8e888>"
      ]
     },
     "execution_count": 19,
     "metadata": {},
     "output_type": "execute_result"
    },
    {
     "data": {
      "image/png": "[encoded data removed]",
      "text/plain": [
       "<Figure size 1800x360 with 1 Axes>"
      ]
     },
     "metadata": {
      "needs_background": "light"
     },
     "output_type": "display_data"
    }
   ],
   "source": [
    "sns.catplot(data=forestFiresAM[['year','firespots']],x='year', y='firespots', kind='bar', aspect=5, estimator=sum)"
   ]
  },
  {
   "cell_type": "code",
   "execution_count": 21,
   "metadata": {},
   "outputs": [
    {
     "data": {
      "text/html": [
       "<div>\n",
       "<style scoped>\n",
       "    .dataframe tbody tr th:only-of-type {\n",
       "        vertical-align: middle;\n",
       "    }\n",
       "\n",
       "    .dataframe tbody tr th {\n",
       "        vertical-align: top;\n",
       "    }\n",
       "\n",
       "    .dataframe thead th {\n",
       "        text-align: right;\n",
       "    }\n",
       "</style>\n",
       "<table border=\"1\" class=\"dataframe\">\n",
       "  <thead>\n",
       "    <tr style=\"text-align: right;\">\n",
       "      <th></th>\n",
       "      <th>ï»¿Ano/Estados</th>\n",
       "      <th>AC</th>\n",
       "      <th>AM</th>\n",
       "      <th>AP</th>\n",
       "      <th>MA</th>\n",
       "      <th>MT</th>\n",
       "      <th>PA</th>\n",
       "      <th>RO</th>\n",
       "      <th>RR</th>\n",
       "      <th>TO</th>\n",
       "      <th>AMZ LEGAL</th>\n",
       "    </tr>\n",
       "  </thead>\n",
       "  <tbody>\n",
       "    <tr>\n",
       "      <th>0</th>\n",
       "      <td>2004</td>\n",
       "      <td>728</td>\n",
       "      <td>1232</td>\n",
       "      <td>46</td>\n",
       "      <td>755</td>\n",
       "      <td>11814</td>\n",
       "      <td>8870</td>\n",
       "      <td>3858</td>\n",
       "      <td>311</td>\n",
       "      <td>158</td>\n",
       "      <td>27772</td>\n",
       "    </tr>\n",
       "    <tr>\n",
       "      <th>1</th>\n",
       "      <td>2005</td>\n",
       "      <td>592</td>\n",
       "      <td>775</td>\n",
       "      <td>33</td>\n",
       "      <td>922</td>\n",
       "      <td>7145</td>\n",
       "      <td>5899</td>\n",
       "      <td>3244</td>\n",
       "      <td>133</td>\n",
       "      <td>271</td>\n",
       "      <td>19014</td>\n",
       "    </tr>\n",
       "    <tr>\n",
       "      <th>2</th>\n",
       "      <td>2006</td>\n",
       "      <td>398</td>\n",
       "      <td>788</td>\n",
       "      <td>30</td>\n",
       "      <td>674</td>\n",
       "      <td>4333</td>\n",
       "      <td>5659</td>\n",
       "      <td>2049</td>\n",
       "      <td>231</td>\n",
       "      <td>124</td>\n",
       "      <td>14286</td>\n",
       "    </tr>\n",
       "    <tr>\n",
       "      <th>3</th>\n",
       "      <td>2007</td>\n",
       "      <td>184</td>\n",
       "      <td>610</td>\n",
       "      <td>39</td>\n",
       "      <td>631</td>\n",
       "      <td>2678</td>\n",
       "      <td>5526</td>\n",
       "      <td>1611</td>\n",
       "      <td>309</td>\n",
       "      <td>63</td>\n",
       "      <td>11651</td>\n",
       "    </tr>\n",
       "    <tr>\n",
       "      <th>4</th>\n",
       "      <td>2008</td>\n",
       "      <td>254</td>\n",
       "      <td>604</td>\n",
       "      <td>100</td>\n",
       "      <td>1271</td>\n",
       "      <td>3258</td>\n",
       "      <td>5607</td>\n",
       "      <td>1136</td>\n",
       "      <td>574</td>\n",
       "      <td>107</td>\n",
       "      <td>12911</td>\n",
       "    </tr>\n",
       "    <tr>\n",
       "      <th>5</th>\n",
       "      <td>2009</td>\n",
       "      <td>167</td>\n",
       "      <td>405</td>\n",
       "      <td>70</td>\n",
       "      <td>828</td>\n",
       "      <td>1049</td>\n",
       "      <td>4281</td>\n",
       "      <td>482</td>\n",
       "      <td>121</td>\n",
       "      <td>61</td>\n",
       "      <td>7464</td>\n",
       "    </tr>\n",
       "    <tr>\n",
       "      <th>6</th>\n",
       "      <td>2010</td>\n",
       "      <td>259</td>\n",
       "      <td>595</td>\n",
       "      <td>53</td>\n",
       "      <td>712</td>\n",
       "      <td>871</td>\n",
       "      <td>3770</td>\n",
       "      <td>435</td>\n",
       "      <td>256</td>\n",
       "      <td>49</td>\n",
       "      <td>7000</td>\n",
       "    </tr>\n",
       "    <tr>\n",
       "      <th>7</th>\n",
       "      <td>2011</td>\n",
       "      <td>280</td>\n",
       "      <td>502</td>\n",
       "      <td>66</td>\n",
       "      <td>396</td>\n",
       "      <td>1120</td>\n",
       "      <td>3008</td>\n",
       "      <td>865</td>\n",
       "      <td>141</td>\n",
       "      <td>40</td>\n",
       "      <td>6418</td>\n",
       "    </tr>\n",
       "    <tr>\n",
       "      <th>8</th>\n",
       "      <td>2012</td>\n",
       "      <td>305</td>\n",
       "      <td>523</td>\n",
       "      <td>27</td>\n",
       "      <td>269</td>\n",
       "      <td>757</td>\n",
       "      <td>1741</td>\n",
       "      <td>773</td>\n",
       "      <td>124</td>\n",
       "      <td>52</td>\n",
       "      <td>4571</td>\n",
       "    </tr>\n",
       "    <tr>\n",
       "      <th>9</th>\n",
       "      <td>2013</td>\n",
       "      <td>221</td>\n",
       "      <td>583</td>\n",
       "      <td>23</td>\n",
       "      <td>403</td>\n",
       "      <td>1139</td>\n",
       "      <td>2346</td>\n",
       "      <td>932</td>\n",
       "      <td>170</td>\n",
       "      <td>74</td>\n",
       "      <td>5891</td>\n",
       "    </tr>\n",
       "    <tr>\n",
       "      <th>10</th>\n",
       "      <td>2014</td>\n",
       "      <td>309</td>\n",
       "      <td>500</td>\n",
       "      <td>31</td>\n",
       "      <td>257</td>\n",
       "      <td>1075</td>\n",
       "      <td>1887</td>\n",
       "      <td>684</td>\n",
       "      <td>219</td>\n",
       "      <td>50</td>\n",
       "      <td>5012</td>\n",
       "    </tr>\n",
       "    <tr>\n",
       "      <th>11</th>\n",
       "      <td>2015</td>\n",
       "      <td>264</td>\n",
       "      <td>712</td>\n",
       "      <td>25</td>\n",
       "      <td>209</td>\n",
       "      <td>1601</td>\n",
       "      <td>2153</td>\n",
       "      <td>1030</td>\n",
       "      <td>156</td>\n",
       "      <td>57</td>\n",
       "      <td>6207</td>\n",
       "    </tr>\n",
       "    <tr>\n",
       "      <th>12</th>\n",
       "      <td>2016</td>\n",
       "      <td>372</td>\n",
       "      <td>1129</td>\n",
       "      <td>17</td>\n",
       "      <td>258</td>\n",
       "      <td>1489</td>\n",
       "      <td>2992</td>\n",
       "      <td>1376</td>\n",
       "      <td>202</td>\n",
       "      <td>58</td>\n",
       "      <td>7893</td>\n",
       "    </tr>\n",
       "    <tr>\n",
       "      <th>13</th>\n",
       "      <td>2017</td>\n",
       "      <td>257</td>\n",
       "      <td>1001</td>\n",
       "      <td>24</td>\n",
       "      <td>265</td>\n",
       "      <td>1561</td>\n",
       "      <td>2433</td>\n",
       "      <td>1243</td>\n",
       "      <td>132</td>\n",
       "      <td>31</td>\n",
       "      <td>6947</td>\n",
       "    </tr>\n",
       "    <tr>\n",
       "      <th>14</th>\n",
       "      <td>2018</td>\n",
       "      <td>444</td>\n",
       "      <td>1045</td>\n",
       "      <td>24</td>\n",
       "      <td>253</td>\n",
       "      <td>1490</td>\n",
       "      <td>2744</td>\n",
       "      <td>1316</td>\n",
       "      <td>195</td>\n",
       "      <td>25</td>\n",
       "      <td>7536</td>\n",
       "    </tr>\n",
       "    <tr>\n",
       "      <th>15</th>\n",
       "      <td>2019</td>\n",
       "      <td>688</td>\n",
       "      <td>1421</td>\n",
       "      <td>8</td>\n",
       "      <td>215</td>\n",
       "      <td>1685</td>\n",
       "      <td>3862</td>\n",
       "      <td>1245</td>\n",
       "      <td>617</td>\n",
       "      <td>21</td>\n",
       "      <td>9762</td>\n",
       "    </tr>\n",
       "  </tbody>\n",
       "</table>\n",
       "</div>"
      ],
      "text/plain": [
       "    ï»¿Ano/Estados   AC    AM   AP    MA     MT    PA    RO   RR   TO  \\\n",
       "0             2004  728  1232   46   755  11814  8870  3858  311  158   \n",
       "1             2005  592   775   33   922   7145  5899  3244  133  271   \n",
       "2             2006  398   788   30   674   4333  5659  2049  231  124   \n",
       "3             2007  184   610   39   631   2678  5526  1611  309   63   \n",
       "4             2008  254   604  100  1271   3258  5607  1136  574  107   \n",
       "5             2009  167   405   70   828   1049  4281   482  121   61   \n",
       "6             2010  259   595   53   712    871  3770   435  256   49   \n",
       "7             2011  280   502   66   396   1120  3008   865  141   40   \n",
       "8             2012  305   523   27   269    757  1741   773  124   52   \n",
       "9             2013  221   583   23   403   1139  2346   932  170   74   \n",
       "10            2014  309   500   31   257   1075  1887   684  219   50   \n",
       "11            2015  264   712   25   209   1601  2153  1030  156   57   \n",
       "12            2016  372  1129   17   258   1489  2992  1376  202   58   \n",
       "13            2017  257  1001   24   265   1561  2433  1243  132   31   \n",
       "14            2018  444  1045   24   253   1490  2744  1316  195   25   \n",
       "15            2019  688  1421    8   215   1685  3862  1245  617   21   \n",
       "\n",
       "    AMZ LEGAL  \n",
       "0       27772  \n",
       "1       19014  \n",
       "2       14286  \n",
       "3       11651  \n",
       "4       12911  \n",
       "5        7464  \n",
       "6        7000  \n",
       "7        6418  \n",
       "8        4571  \n",
       "9        5891  \n",
       "10       5012  \n",
       "11       6207  \n",
       "12       7893  \n",
       "13       6947  \n",
       "14       7536  \n",
       "15       9762  "
      ]
     },
     "execution_count": 21,
     "metadata": {},
     "output_type": "execute_result"
    }
   ],
   "source": [
    "deforestation"
   ]
  },
  {
   "cell_type": "code",
   "execution_count": 26,
   "metadata": {},
   "outputs": [
    {
     "name": "stdout",
     "output_type": "stream",
     "text": [
      "Área Desmatada  - AMZ LEGAL(km²) - entre 2004 e 2019\n"
     ]
    },
    {
     "data": {
      "text/plain": [
       "Text(0.5, 0, 'Anos')"
      ]
     },
     "execution_count": 26,
     "metadata": {},
     "output_type": "execute_result"
    },
    {
     "data": {
      "image/png": "[encoded data removed]",
      "text/plain": [
       "<Figure size 792x432 with 1 Axes>"
      ]
     },
     "metadata": {
      "needs_background": "light"
     },
     "output_type": "display_data"
    }
   ],
   "source": [
    "###Análise da área desmatada na Amazônia Legal E área queimada\n",
    "deforestation.set_index('ï»¿Ano/Estados',inplace = True)\n",
    "print(\"Área Desmatada  - AMZ LEGAL(km²) - entre 2004 e 2019\")\n",
    "grafico_barras_amz = deforestation['AMZ LEGAL'].plot(kind = 'bar', figsize = (11,6),fontsize=14)\n",
    "grafico_barras_amz.set_title(\"Área Desmatada  - AMZ LEGAL(km²) - entre 2004 e 2019\", fontsize = 20)\n",
    "grafico_barras_amz.set_ylabel(\"(km²)\",fontsize=15)\n",
    "grafico_barras_amz.set_xlabel(\"Anos\",fontsize=15)"
   ]
  },
  {
   "cell_type": "code",
   "execution_count": 30,
   "metadata": {},
   "outputs": [
    {
     "ename": "ValueError",
     "evalue": "Either `x` or `y` must be None for kind='count'",
     "output_type": "error",
     "traceback": [
      "\u001b[1;31m---------------------------------------------------------------------------\u001b[0m",
      "\u001b[1;31mValueError\u001b[0m                                Traceback (most recent call last)",
      "\u001b[1;32m<ipython-input-30-a0ae1aa006ae>\u001b[0m in \u001b[0;36m<module>\u001b[1;34m\u001b[0m\n\u001b[1;32m----> 1\u001b[1;33m \u001b[0msns\u001b[0m\u001b[1;33m.\u001b[0m\u001b[0mcatplot\u001b[0m\u001b[1;33m(\u001b[0m\u001b[0mdata\u001b[0m\u001b[1;33m=\u001b[0m\u001b[0mforestFiresAM\u001b[0m\u001b[1;33m[\u001b[0m\u001b[1;33m[\u001b[0m\u001b[1;34m'year'\u001b[0m\u001b[1;33m,\u001b[0m\u001b[1;34m'firespots'\u001b[0m\u001b[1;33m]\u001b[0m\u001b[1;33m]\u001b[0m\u001b[1;33m,\u001b[0m\u001b[0mx\u001b[0m\u001b[1;33m=\u001b[0m\u001b[1;34m'year'\u001b[0m\u001b[1;33m,\u001b[0m \u001b[0my\u001b[0m\u001b[1;33m=\u001b[0m\u001b[1;34m'firespots'\u001b[0m\u001b[1;33m,\u001b[0m \u001b[0mkind\u001b[0m\u001b[1;33m=\u001b[0m\u001b[1;34m'count'\u001b[0m\u001b[1;33m,\u001b[0m \u001b[0maspect\u001b[0m\u001b[1;33m=\u001b[0m\u001b[1;36m5\u001b[0m\u001b[1;33m,\u001b[0m \u001b[0mestimator\u001b[0m\u001b[1;33m=\u001b[0m\u001b[0msum\u001b[0m\u001b[1;33m)\u001b[0m\u001b[1;33m\u001b[0m\u001b[1;33m\u001b[0m\u001b[0m\n\u001b[0m",
      "\u001b[1;32m~\\AppData\\Roaming\\Python\\Python37\\site-packages\\seaborn\\_decorators.py\u001b[0m in \u001b[0;36minner_f\u001b[1;34m(*args, **kwargs)\u001b[0m\n\u001b[0;32m     44\u001b[0m             )\n\u001b[0;32m     45\u001b[0m         \u001b[0mkwargs\u001b[0m\u001b[1;33m.\u001b[0m\u001b[0mupdate\u001b[0m\u001b[1;33m(\u001b[0m\u001b[1;33m{\u001b[0m\u001b[0mk\u001b[0m\u001b[1;33m:\u001b[0m \u001b[0marg\u001b[0m \u001b[1;32mfor\u001b[0m \u001b[0mk\u001b[0m\u001b[1;33m,\u001b[0m \u001b[0marg\u001b[0m \u001b[1;32min\u001b[0m \u001b[0mzip\u001b[0m\u001b[1;33m(\u001b[0m\u001b[0msig\u001b[0m\u001b[1;33m.\u001b[0m\u001b[0mparameters\u001b[0m\u001b[1;33m,\u001b[0m \u001b[0margs\u001b[0m\u001b[1;33m)\u001b[0m\u001b[1;33m}\u001b[0m\u001b[1;33m)\u001b[0m\u001b[1;33m\u001b[0m\u001b[1;33m\u001b[0m\u001b[0m\n\u001b[1;32m---> 46\u001b[1;33m         \u001b[1;32mreturn\u001b[0m \u001b[0mf\u001b[0m\u001b[1;33m(\u001b[0m\u001b[1;33m**\u001b[0m\u001b[0mkwargs\u001b[0m\u001b[1;33m)\u001b[0m\u001b[1;33m\u001b[0m\u001b[1;33m\u001b[0m\u001b[0m\n\u001b[0m\u001b[0;32m     47\u001b[0m     \u001b[1;32mreturn\u001b[0m \u001b[0minner_f\u001b[0m\u001b[1;33m\u001b[0m\u001b[1;33m\u001b[0m\u001b[0m\n\u001b[0;32m     48\u001b[0m \u001b[1;33m\u001b[0m\u001b[0m\n",
      "\u001b[1;32m~\\AppData\\Roaming\\Python\\Python37\\site-packages\\seaborn\\categorical.py\u001b[0m in \u001b[0;36mcatplot\u001b[1;34m(x, y, hue, data, row, col, col_wrap, estimator, ci, n_boot, units, seed, order, hue_order, row_order, col_order, kind, height, aspect, orient, color, palette, legend, legend_out, sharex, sharey, margin_titles, facet_kws, **kwargs)\u001b[0m\n\u001b[0;32m   3765\u001b[0m             \u001b[0mx_\u001b[0m\u001b[1;33m,\u001b[0m \u001b[0my_\u001b[0m\u001b[1;33m,\u001b[0m \u001b[0morient\u001b[0m \u001b[1;33m=\u001b[0m \u001b[0mx\u001b[0m\u001b[1;33m,\u001b[0m \u001b[0mx\u001b[0m\u001b[1;33m,\u001b[0m \u001b[1;34m\"v\"\u001b[0m\u001b[1;33m\u001b[0m\u001b[1;33m\u001b[0m\u001b[0m\n\u001b[0;32m   3766\u001b[0m         \u001b[1;32melse\u001b[0m\u001b[1;33m:\u001b[0m\u001b[1;33m\u001b[0m\u001b[1;33m\u001b[0m\u001b[0m\n\u001b[1;32m-> 3767\u001b[1;33m             \u001b[1;32mraise\u001b[0m \u001b[0mValueError\u001b[0m\u001b[1;33m(\u001b[0m\u001b[1;34m\"Either `x` or `y` must be None for kind='count'\"\u001b[0m\u001b[1;33m)\u001b[0m\u001b[1;33m\u001b[0m\u001b[1;33m\u001b[0m\u001b[0m\n\u001b[0m\u001b[0;32m   3768\u001b[0m     \u001b[1;32melse\u001b[0m\u001b[1;33m:\u001b[0m\u001b[1;33m\u001b[0m\u001b[1;33m\u001b[0m\u001b[0m\n\u001b[0;32m   3769\u001b[0m         \u001b[0mx_\u001b[0m\u001b[1;33m,\u001b[0m \u001b[0my_\u001b[0m \u001b[1;33m=\u001b[0m \u001b[0mx\u001b[0m\u001b[1;33m,\u001b[0m \u001b[0my\u001b[0m\u001b[1;33m\u001b[0m\u001b[1;33m\u001b[0m\u001b[0m\n",
      "\u001b[1;31mValueError\u001b[0m: Either `x` or `y` must be None for kind='count'"
     ]
    }
   ],
   "source": [
    "sns.catplot(data=forestFiresAM[['year','firespots']],x='year', y='firespots', kind='count', aspect=5, estimator=sum)"
   ]
  },
  {
   "cell_type": "code",
   "execution_count": null,
   "metadata": {},
   "outputs": [],
   "source": [
    "forestFiresAM['year'].loc[forestFiresAM['firespots']==0 ].count() #595"
   ]
  },
  {
   "cell_type": "code",
   "execution_count": null,
   "metadata": {},
   "outputs": [],
   "source": [
    "forestFiresAM.columns"
   ]
  },
  {
   "cell_type": "code",
   "execution_count": null,
   "metadata": {},
   "outputs": [],
   "source": [
    "forestFiresAM.corr()"
   ]
  },
  {
   "cell_type": "code",
   "execution_count": null,
   "metadata": {},
   "outputs": [],
   "source": [
    "dados_estados_binarios = pd.get_dummies(forestFiresAM['state'])\n",
    "dados_estados_binarios.head()"
   ]
  },
  {
   "cell_type": "code",
   "execution_count": null,
   "metadata": {},
   "outputs": [],
   "source": [
    "\n",
    "vars_categoricas = ['state']\n",
    "\n",
    "df2_forestFiresAM = forestFiresAM \n",
    "\n",
    "for i in vars_categoricas:\n",
    "  dados_estados_binarios = pd.get_dummies(forestFiresAM[i])\n",
    "  df2_forestFiresAM = df2_forestFiresAM.drop(i,axis = 1)\n",
    "  df2_forestFiresAM=df2_forestFiresAM.join(dados_estados_binarios)\n",
    "\n",
    "df2_forestFiresAM"
   ]
  },
  {
   "cell_type": "code",
   "execution_count": null,
   "metadata": {},
   "outputs": [],
   "source": [
    "df2_forestFiresAM = df2_forestFiresAM.loc[df2_forestFiresAM['year']>=2000]\n",
    "columns_df2 = ['year',  'ACRE', 'AMAPA',\n",
    "       'AMAZONAS', 'MARANHAO', 'MATO GROSSO', 'PARA', 'RONDONIA', 'RORAIMA',\n",
    "       'TOCANTINS','firespots']\n",
    "df2_forestFiresAM = df2_forestFiresAM[columns_df2]\n",
    "df2_forestFiresAM = df2_forestFiresAM.groupby(['year',  'ACRE', 'AMAPA',\n",
    "       'AMAZONAS', 'MARANHAO', 'MATO GROSSO', 'PARA', 'RONDONIA', 'RORAIMA',\n",
    "       'TOCANTINS']).sum().reset_index()"
   ]
  },
  {
   "cell_type": "code",
   "execution_count": null,
   "metadata": {},
   "outputs": [],
   "source": [
    "target = \"firespots\"\n",
    "\n",
    "y = df2_forestFiresAM[target]\n",
    "X = df2_forestFiresAM.drop([target],axis=1)"
   ]
  },
  {
   "cell_type": "code",
   "execution_count": null,
   "metadata": {},
   "outputs": [],
   "source": [
    "xTrain, xTest, yTrain, yTest = selection_variables_train_test(X,y)"
   ]
  },
  {
   "cell_type": "code",
   "execution_count": null,
   "metadata": {},
   "outputs": [],
   "source": [
    "cross_validation(X,y)"
   ]
  },
  {
   "cell_type": "code",
   "execution_count": null,
   "metadata": {},
   "outputs": [],
   "source": [
    "regr_linear = fit_model(LinearRegression(),xTrain,yTrain)"
   ]
  },
  {
   "cell_type": "code",
   "execution_count": null,
   "metadata": {},
   "outputs": [],
   "source": [
    "yPred = regr_linear.predict(xTest)"
   ]
  },
  {
   "cell_type": "code",
   "execution_count": null,
   "metadata": {},
   "outputs": [],
   "source": [
    "prediction_relative_error = [100*abs(pair[0] - pair[1])/pair[1] for pair in list(zip(yPred,yTest))]"
   ]
  },
  {
   "cell_type": "code",
   "execution_count": null,
   "metadata": {},
   "outputs": [],
   "source": [
    "df_regressao_linear = create_dataframe(xTest,yPred,prediction_relative_error,yTest)\n",
    "df_regressao_linear"
   ]
  },
  {
   "cell_type": "code",
   "execution_count": null,
   "metadata": {},
   "outputs": [],
   "source": []
  },
  {
   "cell_type": "code",
   "execution_count": null,
   "metadata": {},
   "outputs": [],
   "source": [
    "regr_linear.score(xTest, yTest)"
   ]
  },
  {
   "cell_type": "code",
   "execution_count": null,
   "metadata": {},
   "outputs": [],
   "source": [
    "df_regressao_linear = df_regressao_linear.sort_values(['year'])\n",
    "df_regressao_linear.set_index(['year'],inplace = True)"
   ]
  },
  {
   "cell_type": "code",
   "execution_count": null,
   "metadata": {},
   "outputs": [],
   "source": [
    "plot_graph(df_regressao_linear[['prediction','Focos de incêndio']],\"Predição vs Queimadas - Regressão Linear\")"
   ]
  },
  {
   "cell_type": "code",
   "execution_count": null,
   "metadata": {},
   "outputs": [],
   "source": [
    "#Rede neural\n",
    "xTrain_neural, xTest_neural, yTrain_neural, yTest_neural = selection_variables_train_test(X,y)\n",
    "classifier_RN = fit_model(MLPRegressor(),xTrain_neural,yTrain_neural)\n",
    "yPred_neural = classifier_RN.predict(xTest_neural)\n",
    "prediction_relative_error_neural = [100*abs(pair[0] - pair[1])/pair[1] for pair in list(zip(yPred_neural,yTest_neural))]"
   ]
  },
  {
   "cell_type": "code",
   "execution_count": null,
   "metadata": {},
   "outputs": [],
   "source": [
    "df_rede_neural = create_dataframe(xTest_neural,yPred_neural,prediction_relative_error_neural,yTest_neural)\n",
    "df_rede_neural"
   ]
  },
  {
   "cell_type": "code",
   "execution_count": null,
   "metadata": {},
   "outputs": [],
   "source": [
    "classifier_RN.score(xTest_neural, yTest_neural)"
   ]
  },
  {
   "cell_type": "code",
   "execution_count": null,
   "metadata": {},
   "outputs": [],
   "source": [
    "df_rede_neural = df_rede_neural.sort_values(['year'])\n",
    "df_rede_neural.set_index(['year'],inplace = True)"
   ]
  },
  {
   "cell_type": "code",
   "execution_count": null,
   "metadata": {},
   "outputs": [],
   "source": [
    "plot_graph(df_rede_neural[['prediction','Focos de incêndio']],\"Predição vs Queimadas - Rede Neural\")"
   ]
  },
  {
   "cell_type": "code",
   "execution_count": null,
   "metadata": {},
   "outputs": [],
   "source": [
    "##Elastic Net\n",
    "xTrain_elastic, xTest_elastic, yTrain_elastic, yTest_elastic =  selection_variables_train_test(X,y)\n"
   ]
  },
  {
   "cell_type": "code",
   "execution_count": null,
   "metadata": {},
   "outputs": [],
   "source": [
    "classifier_EN = fit_model(ElasticNet(),xTrain_elastic,yTrain_elastic)\n",
    "yPred_elastic = classifier_EN.predict(xTest_elastic)"
   ]
  },
  {
   "cell_type": "code",
   "execution_count": null,
   "metadata": {},
   "outputs": [],
   "source": [
    "prediction_relative_error_elastic = [100*abs(pair[0] - pair[1])/pair[1] for pair in list(zip(yPred_elastic,yTest_elastic))]"
   ]
  },
  {
   "cell_type": "code",
   "execution_count": null,
   "metadata": {},
   "outputs": [],
   "source": [
    "\n",
    "\n",
    "df_en = create_dataframe(xTest_elastic,yPred_elastic,prediction_relative_error_elastic,yTest_elastic)\n",
    "df_en"
   ]
  },
  {
   "cell_type": "code",
   "execution_count": null,
   "metadata": {},
   "outputs": [],
   "source": [
    "classifier_EN.score(xTest_elastic, yTest_elastic)"
   ]
  },
  {
   "cell_type": "code",
   "execution_count": null,
   "metadata": {},
   "outputs": [],
   "source": [
    "df_en = df_en.sort_values(['year'])\n",
    "df_en.set_index(['year'],inplace = True)"
   ]
  },
  {
   "cell_type": "code",
   "execution_count": null,
   "metadata": {},
   "outputs": [],
   "source": [
    "plot_graph(df_en[['prediction','Focos de incêndio']],\"Predição vs Queimadas - Elastic\")"
   ]
  },
  {
   "cell_type": "code",
   "execution_count": null,
   "metadata": {},
   "outputs": [],
   "source": [
    "#lASSO \n",
    "xTrain_lasso, xTest_lasso, yTrain_lasso, yTest_lasso =  selection_variables_train_test(X,y)\n"
   ]
  },
  {
   "cell_type": "code",
   "execution_count": null,
   "metadata": {},
   "outputs": [],
   "source": [
    "classifier_lasso = fit_model(Lasso(),xTrain_lasso,yTrain_lasso)\n"
   ]
  },
  {
   "cell_type": "code",
   "execution_count": null,
   "metadata": {},
   "outputs": [],
   "source": [
    "yPred_lasso = classifier_lasso.predict(xTest_lasso)"
   ]
  },
  {
   "cell_type": "code",
   "execution_count": null,
   "metadata": {},
   "outputs": [],
   "source": [
    "prediction_relative_error_lasso = [100*abs(pair[0] - pair[1])/pair[1] for pair in list(zip(yPred_lasso,yTest_lasso))]"
   ]
  },
  {
   "cell_type": "code",
   "execution_count": null,
   "metadata": {},
   "outputs": [],
   "source": [
    "\n",
    "df_lasso = create_dataframe(xTest_lasso,yPred_lasso,prediction_relative_error_lasso,yTest_lasso)\n",
    "df_lasso"
   ]
  },
  {
   "cell_type": "code",
   "execution_count": null,
   "metadata": {},
   "outputs": [],
   "source": [
    "classifier_lasso.score(xTest_lasso,yTest_lasso)"
   ]
  },
  {
   "cell_type": "code",
   "execution_count": null,
   "metadata": {},
   "outputs": [],
   "source": [
    "df_lasso = df_lasso.sort_values(['year'])\n",
    "df_lasso.set_index(['year'],inplace = True)"
   ]
  },
  {
   "cell_type": "code",
   "execution_count": null,
   "metadata": {},
   "outputs": [],
   "source": [
    "plot_graph(df_lasso[['prediction','Focos de incêndio']],\"Predição vs Queimadas - Lasso\")"
   ]
  },
  {
   "cell_type": "code",
   "execution_count": null,
   "metadata": {},
   "outputs": [],
   "source": []
  }
 ],
 "metadata": {
  "kernelspec": {
   "display_name": "Python 3",
   "language": "python",
   "name": "python3"
  },
  "language_info": {
   "codemirror_mode": {
    "name": "ipython",
    "version": 3
   },
   "file_extension": ".py",
   "mimetype": "text/x-python",
   "name": "python",
   "nbconvert_exporter": "python",
   "pygments_lexer": "ipython3",
   "version": "3.7.6"
  }
 },
 "nbformat": 4,
 "nbformat_minor": 4
}
