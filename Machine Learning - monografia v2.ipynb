{
 "cells": [
  {
   "cell_type": "code",
   "execution_count": 1,
   "metadata": {},
   "outputs": [],
   "source": [
    "# importando as bibliotecas e classes\n",
    "import numpy as np\n",
    "import pandas as pd\n",
    "from sklearn.linear_model import LinearRegression\n",
    "from sklearn.model_selection import train_test_split\n",
    "from sklearn.neural_network import MLPRegressor\n",
    "from sklearn.preprocessing import StandardScaler\n",
    "import seaborn as sns\n",
    "from sklearn.preprocessing import LabelEncoder\n",
    "from matplotlib import pyplot as plt"
   ]
  },
  {
   "cell_type": "code",
   "execution_count": 2,
   "metadata": {},
   "outputs": [],
   "source": [
    "#Dados treinos    \n",
    "dados_treinos = pd.read_csv(\"novodataframe.csv\")"
   ]
  },
  {
   "cell_type": "code",
   "execution_count": 3,
   "metadata": {},
   "outputs": [
    {
     "data": {
      "text/html": [
       "<div>\n",
       "<style scoped>\n",
       "    .dataframe tbody tr th:only-of-type {\n",
       "        vertical-align: middle;\n",
       "    }\n",
       "\n",
       "    .dataframe tbody tr th {\n",
       "        vertical-align: top;\n",
       "    }\n",
       "\n",
       "    .dataframe thead th {\n",
       "        text-align: right;\n",
       "    }\n",
       "</style>\n",
       "<table border=\"1\" class=\"dataframe\">\n",
       "  <thead>\n",
       "    <tr style=\"text-align: right;\">\n",
       "      <th></th>\n",
       "      <th>Ano/Estados</th>\n",
       "      <th>AM - QTD QUEIMADAS</th>\n",
       "      <th>MA - QTD QUEIMADAS</th>\n",
       "      <th>AC - QTD QUEIMADAS</th>\n",
       "      <th>AP - QTD QUEIMADAS</th>\n",
       "      <th>MT - QTD QUEIMADAS</th>\n",
       "      <th>PA - QTD QUEIMADAS</th>\n",
       "      <th>RO - QTD QUEIMADAS</th>\n",
       "      <th>RR - QTD QUEIMADAS</th>\n",
       "      <th>TO - QTD QUEIMADAS</th>\n",
       "      <th>AC - Desmatamento</th>\n",
       "      <th>AM - Desmatamento</th>\n",
       "      <th>AP - Desmatamento</th>\n",
       "      <th>MA - Desmatamento</th>\n",
       "      <th>MT - Desmatamento</th>\n",
       "      <th>PA - Desmatamento</th>\n",
       "      <th>RO - Desmatamento</th>\n",
       "      <th>RR - Desmatamento</th>\n",
       "      <th>TO - Desmatamento</th>\n",
       "      <th>AMZ LEGAL - Desmatamento</th>\n",
       "    </tr>\n",
       "  </thead>\n",
       "  <tbody>\n",
       "    <tr>\n",
       "      <th>0</th>\n",
       "      <td>2004</td>\n",
       "      <td>8083.0</td>\n",
       "      <td>11443.0</td>\n",
       "      <td>7271.0</td>\n",
       "      <td>3413.0</td>\n",
       "      <td>70422.0</td>\n",
       "      <td>74214.0</td>\n",
       "      <td>40824.0</td>\n",
       "      <td>2221.0</td>\n",
       "      <td>746.0</td>\n",
       "      <td>728.0</td>\n",
       "      <td>1232.0</td>\n",
       "      <td>46.0</td>\n",
       "      <td>755.0</td>\n",
       "      <td>11814.0</td>\n",
       "      <td>8870.0</td>\n",
       "      <td>3858.0</td>\n",
       "      <td>311.0</td>\n",
       "      <td>158.0</td>\n",
       "      <td>27772.0</td>\n",
       "    </tr>\n",
       "    <tr>\n",
       "      <th>1</th>\n",
       "      <td>2005</td>\n",
       "      <td>15644.0</td>\n",
       "      <td>10820.0</td>\n",
       "      <td>15993.0</td>\n",
       "      <td>2020.0</td>\n",
       "      <td>53489.0</td>\n",
       "      <td>71477.0</td>\n",
       "      <td>41641.0</td>\n",
       "      <td>1461.0</td>\n",
       "      <td>1175.0</td>\n",
       "      <td>592.0</td>\n",
       "      <td>775.0</td>\n",
       "      <td>33.0</td>\n",
       "      <td>922.0</td>\n",
       "      <td>7145.0</td>\n",
       "      <td>5899.0</td>\n",
       "      <td>3244.0</td>\n",
       "      <td>133.0</td>\n",
       "      <td>271.0</td>\n",
       "      <td>19014.0</td>\n",
       "    </tr>\n",
       "    <tr>\n",
       "      <th>2</th>\n",
       "      <td>2006</td>\n",
       "      <td>11697.0</td>\n",
       "      <td>7885.0</td>\n",
       "      <td>6198.0</td>\n",
       "      <td>1665.0</td>\n",
       "      <td>32745.0</td>\n",
       "      <td>55840.0</td>\n",
       "      <td>25699.0</td>\n",
       "      <td>2189.0</td>\n",
       "      <td>504.0</td>\n",
       "      <td>398.0</td>\n",
       "      <td>788.0</td>\n",
       "      <td>30.0</td>\n",
       "      <td>674.0</td>\n",
       "      <td>4333.0</td>\n",
       "      <td>5659.0</td>\n",
       "      <td>2049.0</td>\n",
       "      <td>231.0</td>\n",
       "      <td>124.0</td>\n",
       "      <td>14286.0</td>\n",
       "    </tr>\n",
       "    <tr>\n",
       "      <th>3</th>\n",
       "      <td>2007</td>\n",
       "      <td>11293.0</td>\n",
       "      <td>12329.0</td>\n",
       "      <td>8549.0</td>\n",
       "      <td>1484.0</td>\n",
       "      <td>52399.0</td>\n",
       "      <td>68491.0</td>\n",
       "      <td>27477.0</td>\n",
       "      <td>3244.0</td>\n",
       "      <td>1214.0</td>\n",
       "      <td>184.0</td>\n",
       "      <td>610.0</td>\n",
       "      <td>39.0</td>\n",
       "      <td>631.0</td>\n",
       "      <td>2678.0</td>\n",
       "      <td>5526.0</td>\n",
       "      <td>1611.0</td>\n",
       "      <td>309.0</td>\n",
       "      <td>63.0</td>\n",
       "      <td>11651.0</td>\n",
       "    </tr>\n",
       "    <tr>\n",
       "      <th>4</th>\n",
       "      <td>2008</td>\n",
       "      <td>6701.0</td>\n",
       "      <td>7822.0</td>\n",
       "      <td>5699.0</td>\n",
       "      <td>2153.0</td>\n",
       "      <td>18602.0</td>\n",
       "      <td>48449.0</td>\n",
       "      <td>11549.0</td>\n",
       "      <td>1950.0</td>\n",
       "      <td>528.0</td>\n",
       "      <td>254.0</td>\n",
       "      <td>604.0</td>\n",
       "      <td>100.0</td>\n",
       "      <td>1271.0</td>\n",
       "      <td>3258.0</td>\n",
       "      <td>5607.0</td>\n",
       "      <td>1136.0</td>\n",
       "      <td>574.0</td>\n",
       "      <td>107.0</td>\n",
       "      <td>12911.0</td>\n",
       "    </tr>\n",
       "  </tbody>\n",
       "</table>\n",
       "</div>"
      ],
      "text/plain": [
       "   Ano/Estados  AM - QTD QUEIMADAS  MA - QTD QUEIMADAS  AC - QTD QUEIMADAS  \\\n",
       "0         2004              8083.0             11443.0              7271.0   \n",
       "1         2005             15644.0             10820.0             15993.0   \n",
       "2         2006             11697.0              7885.0              6198.0   \n",
       "3         2007             11293.0             12329.0              8549.0   \n",
       "4         2008              6701.0              7822.0              5699.0   \n",
       "\n",
       "   AP - QTD QUEIMADAS  MT - QTD QUEIMADAS  PA - QTD QUEIMADAS  \\\n",
       "0              3413.0             70422.0             74214.0   \n",
       "1              2020.0             53489.0             71477.0   \n",
       "2              1665.0             32745.0             55840.0   \n",
       "3              1484.0             52399.0             68491.0   \n",
       "4              2153.0             18602.0             48449.0   \n",
       "\n",
       "   RO - QTD QUEIMADAS  RR - QTD QUEIMADAS  TO - QTD QUEIMADAS  \\\n",
       "0             40824.0              2221.0               746.0   \n",
       "1             41641.0              1461.0              1175.0   \n",
       "2             25699.0              2189.0               504.0   \n",
       "3             27477.0              3244.0              1214.0   \n",
       "4             11549.0              1950.0               528.0   \n",
       "\n",
       "   AC - Desmatamento  AM - Desmatamento  AP - Desmatamento  MA - Desmatamento  \\\n",
       "0              728.0             1232.0               46.0              755.0   \n",
       "1              592.0              775.0               33.0              922.0   \n",
       "2              398.0              788.0               30.0              674.0   \n",
       "3              184.0              610.0               39.0              631.0   \n",
       "4              254.0              604.0              100.0             1271.0   \n",
       "\n",
       "   MT - Desmatamento  PA - Desmatamento  RO - Desmatamento  RR - Desmatamento  \\\n",
       "0            11814.0             8870.0             3858.0              311.0   \n",
       "1             7145.0             5899.0             3244.0              133.0   \n",
       "2             4333.0             5659.0             2049.0              231.0   \n",
       "3             2678.0             5526.0             1611.0              309.0   \n",
       "4             3258.0             5607.0             1136.0              574.0   \n",
       "\n",
       "   TO - Desmatamento  AMZ LEGAL - Desmatamento  \n",
       "0              158.0                   27772.0  \n",
       "1              271.0                   19014.0  \n",
       "2              124.0                   14286.0  \n",
       "3               63.0                   11651.0  \n",
       "4              107.0                   12911.0  "
      ]
     },
     "execution_count": 3,
     "metadata": {},
     "output_type": "execute_result"
    }
   ],
   "source": [
    "dados_treinos.head()"
   ]
  },
  {
   "cell_type": "code",
   "execution_count": 4,
   "metadata": {},
   "outputs": [],
   "source": [
    "#Criar um novo dataframe para AM\n",
    "treinos_cols = ['Ano/Estados','AM - QTD QUEIMADAS']\n",
    "treinos_dados_AM = dados_treinos[treinos_cols]"
   ]
  },
  {
   "cell_type": "code",
   "execution_count": 5,
   "metadata": {},
   "outputs": [
    {
     "data": {
      "text/html": [
       "<div>\n",
       "<style scoped>\n",
       "    .dataframe tbody tr th:only-of-type {\n",
       "        vertical-align: middle;\n",
       "    }\n",
       "\n",
       "    .dataframe tbody tr th {\n",
       "        vertical-align: top;\n",
       "    }\n",
       "\n",
       "    .dataframe thead th {\n",
       "        text-align: right;\n",
       "    }\n",
       "</style>\n",
       "<table border=\"1\" class=\"dataframe\">\n",
       "  <thead>\n",
       "    <tr style=\"text-align: right;\">\n",
       "      <th></th>\n",
       "      <th>Ano/Estados</th>\n",
       "      <th>AM - QTD QUEIMADAS</th>\n",
       "    </tr>\n",
       "  </thead>\n",
       "  <tbody>\n",
       "    <tr>\n",
       "      <th>0</th>\n",
       "      <td>2004</td>\n",
       "      <td>8083.0</td>\n",
       "    </tr>\n",
       "    <tr>\n",
       "      <th>1</th>\n",
       "      <td>2005</td>\n",
       "      <td>15644.0</td>\n",
       "    </tr>\n",
       "    <tr>\n",
       "      <th>2</th>\n",
       "      <td>2006</td>\n",
       "      <td>11697.0</td>\n",
       "    </tr>\n",
       "    <tr>\n",
       "      <th>3</th>\n",
       "      <td>2007</td>\n",
       "      <td>11293.0</td>\n",
       "    </tr>\n",
       "    <tr>\n",
       "      <th>4</th>\n",
       "      <td>2008</td>\n",
       "      <td>6701.0</td>\n",
       "    </tr>\n",
       "    <tr>\n",
       "      <th>5</th>\n",
       "      <td>2009</td>\n",
       "      <td>9280.0</td>\n",
       "    </tr>\n",
       "    <tr>\n",
       "      <th>6</th>\n",
       "      <td>2010</td>\n",
       "      <td>12139.0</td>\n",
       "    </tr>\n",
       "    <tr>\n",
       "      <th>7</th>\n",
       "      <td>2011</td>\n",
       "      <td>5028.0</td>\n",
       "    </tr>\n",
       "    <tr>\n",
       "      <th>8</th>\n",
       "      <td>2012</td>\n",
       "      <td>9114.0</td>\n",
       "    </tr>\n",
       "    <tr>\n",
       "      <th>9</th>\n",
       "      <td>2013</td>\n",
       "      <td>6512.0</td>\n",
       "    </tr>\n",
       "    <tr>\n",
       "      <th>10</th>\n",
       "      <td>2014</td>\n",
       "      <td>9008.0</td>\n",
       "    </tr>\n",
       "    <tr>\n",
       "      <th>11</th>\n",
       "      <td>2015</td>\n",
       "      <td>13419.0</td>\n",
       "    </tr>\n",
       "    <tr>\n",
       "      <th>12</th>\n",
       "      <td>2016</td>\n",
       "      <td>11173.0</td>\n",
       "    </tr>\n",
       "    <tr>\n",
       "      <th>13</th>\n",
       "      <td>2017</td>\n",
       "      <td>11685.0</td>\n",
       "    </tr>\n",
       "    <tr>\n",
       "      <th>14</th>\n",
       "      <td>2018</td>\n",
       "      <td>11446.0</td>\n",
       "    </tr>\n",
       "    <tr>\n",
       "      <th>15</th>\n",
       "      <td>2019</td>\n",
       "      <td>12665.0</td>\n",
       "    </tr>\n",
       "  </tbody>\n",
       "</table>\n",
       "</div>"
      ],
      "text/plain": [
       "    Ano/Estados  AM - QTD QUEIMADAS\n",
       "0          2004              8083.0\n",
       "1          2005             15644.0\n",
       "2          2006             11697.0\n",
       "3          2007             11293.0\n",
       "4          2008              6701.0\n",
       "5          2009              9280.0\n",
       "6          2010             12139.0\n",
       "7          2011              5028.0\n",
       "8          2012              9114.0\n",
       "9          2013              6512.0\n",
       "10         2014              9008.0\n",
       "11         2015             13419.0\n",
       "12         2016             11173.0\n",
       "13         2017             11685.0\n",
       "14         2018             11446.0\n",
       "15         2019             12665.0"
      ]
     },
     "execution_count": 5,
     "metadata": {},
     "output_type": "execute_result"
    }
   ],
   "source": [
    "treinos_dados_AM"
   ]
  },
  {
   "cell_type": "code",
   "execution_count": null,
   "metadata": {},
   "outputs": [],
   "source": [
    "#Criar index\n",
    "#treinos_dados_AM.set_index('Ano/Estados',inplace = True)"
   ]
  },
  {
   "cell_type": "code",
   "execution_count": 6,
   "metadata": {},
   "outputs": [
    {
     "name": "stderr",
     "output_type": "stream",
     "text": [
      "C:\\Users\\alyne\\anaconda3\\lib\\site-packages\\ipykernel_launcher.py:2: SettingWithCopyWarning: \n",
      "A value is trying to be set on a copy of a slice from a DataFrame.\n",
      "Try using .loc[row_indexer,col_indexer] = value instead\n",
      "\n",
      "See the caveats in the documentation: https://pandas.pydata.org/pandas-docs/stable/user_guide/indexing.html#returning-a-view-versus-a-copy\n",
      "  \n"
     ]
    }
   ],
   "source": [
    "#Criar coluna com sigla\n",
    "treinos_dados_AM['SIGLA']=\"AM\""
   ]
  },
  {
   "cell_type": "code",
   "execution_count": 7,
   "metadata": {},
   "outputs": [
    {
     "data": {
      "text/html": [
       "<div>\n",
       "<style scoped>\n",
       "    .dataframe tbody tr th:only-of-type {\n",
       "        vertical-align: middle;\n",
       "    }\n",
       "\n",
       "    .dataframe tbody tr th {\n",
       "        vertical-align: top;\n",
       "    }\n",
       "\n",
       "    .dataframe thead th {\n",
       "        text-align: right;\n",
       "    }\n",
       "</style>\n",
       "<table border=\"1\" class=\"dataframe\">\n",
       "  <thead>\n",
       "    <tr style=\"text-align: right;\">\n",
       "      <th></th>\n",
       "      <th>Ano/Estados</th>\n",
       "      <th>AM - QTD QUEIMADAS</th>\n",
       "      <th>SIGLA</th>\n",
       "    </tr>\n",
       "  </thead>\n",
       "  <tbody>\n",
       "    <tr>\n",
       "      <th>0</th>\n",
       "      <td>2004</td>\n",
       "      <td>8083.0</td>\n",
       "      <td>AM</td>\n",
       "    </tr>\n",
       "    <tr>\n",
       "      <th>1</th>\n",
       "      <td>2005</td>\n",
       "      <td>15644.0</td>\n",
       "      <td>AM</td>\n",
       "    </tr>\n",
       "    <tr>\n",
       "      <th>2</th>\n",
       "      <td>2006</td>\n",
       "      <td>11697.0</td>\n",
       "      <td>AM</td>\n",
       "    </tr>\n",
       "    <tr>\n",
       "      <th>3</th>\n",
       "      <td>2007</td>\n",
       "      <td>11293.0</td>\n",
       "      <td>AM</td>\n",
       "    </tr>\n",
       "    <tr>\n",
       "      <th>4</th>\n",
       "      <td>2008</td>\n",
       "      <td>6701.0</td>\n",
       "      <td>AM</td>\n",
       "    </tr>\n",
       "    <tr>\n",
       "      <th>5</th>\n",
       "      <td>2009</td>\n",
       "      <td>9280.0</td>\n",
       "      <td>AM</td>\n",
       "    </tr>\n",
       "    <tr>\n",
       "      <th>6</th>\n",
       "      <td>2010</td>\n",
       "      <td>12139.0</td>\n",
       "      <td>AM</td>\n",
       "    </tr>\n",
       "    <tr>\n",
       "      <th>7</th>\n",
       "      <td>2011</td>\n",
       "      <td>5028.0</td>\n",
       "      <td>AM</td>\n",
       "    </tr>\n",
       "    <tr>\n",
       "      <th>8</th>\n",
       "      <td>2012</td>\n",
       "      <td>9114.0</td>\n",
       "      <td>AM</td>\n",
       "    </tr>\n",
       "    <tr>\n",
       "      <th>9</th>\n",
       "      <td>2013</td>\n",
       "      <td>6512.0</td>\n",
       "      <td>AM</td>\n",
       "    </tr>\n",
       "    <tr>\n",
       "      <th>10</th>\n",
       "      <td>2014</td>\n",
       "      <td>9008.0</td>\n",
       "      <td>AM</td>\n",
       "    </tr>\n",
       "    <tr>\n",
       "      <th>11</th>\n",
       "      <td>2015</td>\n",
       "      <td>13419.0</td>\n",
       "      <td>AM</td>\n",
       "    </tr>\n",
       "    <tr>\n",
       "      <th>12</th>\n",
       "      <td>2016</td>\n",
       "      <td>11173.0</td>\n",
       "      <td>AM</td>\n",
       "    </tr>\n",
       "    <tr>\n",
       "      <th>13</th>\n",
       "      <td>2017</td>\n",
       "      <td>11685.0</td>\n",
       "      <td>AM</td>\n",
       "    </tr>\n",
       "    <tr>\n",
       "      <th>14</th>\n",
       "      <td>2018</td>\n",
       "      <td>11446.0</td>\n",
       "      <td>AM</td>\n",
       "    </tr>\n",
       "    <tr>\n",
       "      <th>15</th>\n",
       "      <td>2019</td>\n",
       "      <td>12665.0</td>\n",
       "      <td>AM</td>\n",
       "    </tr>\n",
       "  </tbody>\n",
       "</table>\n",
       "</div>"
      ],
      "text/plain": [
       "    Ano/Estados  AM - QTD QUEIMADAS SIGLA\n",
       "0          2004              8083.0    AM\n",
       "1          2005             15644.0    AM\n",
       "2          2006             11697.0    AM\n",
       "3          2007             11293.0    AM\n",
       "4          2008              6701.0    AM\n",
       "5          2009              9280.0    AM\n",
       "6          2010             12139.0    AM\n",
       "7          2011              5028.0    AM\n",
       "8          2012              9114.0    AM\n",
       "9          2013              6512.0    AM\n",
       "10         2014              9008.0    AM\n",
       "11         2015             13419.0    AM\n",
       "12         2016             11173.0    AM\n",
       "13         2017             11685.0    AM\n",
       "14         2018             11446.0    AM\n",
       "15         2019             12665.0    AM"
      ]
     },
     "execution_count": 7,
     "metadata": {},
     "output_type": "execute_result"
    }
   ],
   "source": [
    "#Dataframe criado para AM\n",
    "treinos_dados_AM"
   ]
  },
  {
   "cell_type": "code",
   "execution_count": 8,
   "metadata": {},
   "outputs": [],
   "source": [
    "treinos_dados_AM= treinos_dados_AM.rename(columns= {'AM - QTD QUEIMADAS':'Qtd. Queimadas'})"
   ]
  },
  {
   "cell_type": "code",
   "execution_count": 9,
   "metadata": {},
   "outputs": [
    {
     "data": {
      "text/html": [
       "<div>\n",
       "<style scoped>\n",
       "    .dataframe tbody tr th:only-of-type {\n",
       "        vertical-align: middle;\n",
       "    }\n",
       "\n",
       "    .dataframe tbody tr th {\n",
       "        vertical-align: top;\n",
       "    }\n",
       "\n",
       "    .dataframe thead th {\n",
       "        text-align: right;\n",
       "    }\n",
       "</style>\n",
       "<table border=\"1\" class=\"dataframe\">\n",
       "  <thead>\n",
       "    <tr style=\"text-align: right;\">\n",
       "      <th></th>\n",
       "      <th>Ano/Estados</th>\n",
       "      <th>Qtd. Queimadas</th>\n",
       "      <th>SIGLA</th>\n",
       "    </tr>\n",
       "  </thead>\n",
       "  <tbody>\n",
       "    <tr>\n",
       "      <th>0</th>\n",
       "      <td>2004</td>\n",
       "      <td>8083.0</td>\n",
       "      <td>AM</td>\n",
       "    </tr>\n",
       "    <tr>\n",
       "      <th>1</th>\n",
       "      <td>2005</td>\n",
       "      <td>15644.0</td>\n",
       "      <td>AM</td>\n",
       "    </tr>\n",
       "    <tr>\n",
       "      <th>2</th>\n",
       "      <td>2006</td>\n",
       "      <td>11697.0</td>\n",
       "      <td>AM</td>\n",
       "    </tr>\n",
       "    <tr>\n",
       "      <th>3</th>\n",
       "      <td>2007</td>\n",
       "      <td>11293.0</td>\n",
       "      <td>AM</td>\n",
       "    </tr>\n",
       "    <tr>\n",
       "      <th>4</th>\n",
       "      <td>2008</td>\n",
       "      <td>6701.0</td>\n",
       "      <td>AM</td>\n",
       "    </tr>\n",
       "    <tr>\n",
       "      <th>5</th>\n",
       "      <td>2009</td>\n",
       "      <td>9280.0</td>\n",
       "      <td>AM</td>\n",
       "    </tr>\n",
       "    <tr>\n",
       "      <th>6</th>\n",
       "      <td>2010</td>\n",
       "      <td>12139.0</td>\n",
       "      <td>AM</td>\n",
       "    </tr>\n",
       "    <tr>\n",
       "      <th>7</th>\n",
       "      <td>2011</td>\n",
       "      <td>5028.0</td>\n",
       "      <td>AM</td>\n",
       "    </tr>\n",
       "    <tr>\n",
       "      <th>8</th>\n",
       "      <td>2012</td>\n",
       "      <td>9114.0</td>\n",
       "      <td>AM</td>\n",
       "    </tr>\n",
       "    <tr>\n",
       "      <th>9</th>\n",
       "      <td>2013</td>\n",
       "      <td>6512.0</td>\n",
       "      <td>AM</td>\n",
       "    </tr>\n",
       "    <tr>\n",
       "      <th>10</th>\n",
       "      <td>2014</td>\n",
       "      <td>9008.0</td>\n",
       "      <td>AM</td>\n",
       "    </tr>\n",
       "    <tr>\n",
       "      <th>11</th>\n",
       "      <td>2015</td>\n",
       "      <td>13419.0</td>\n",
       "      <td>AM</td>\n",
       "    </tr>\n",
       "    <tr>\n",
       "      <th>12</th>\n",
       "      <td>2016</td>\n",
       "      <td>11173.0</td>\n",
       "      <td>AM</td>\n",
       "    </tr>\n",
       "    <tr>\n",
       "      <th>13</th>\n",
       "      <td>2017</td>\n",
       "      <td>11685.0</td>\n",
       "      <td>AM</td>\n",
       "    </tr>\n",
       "    <tr>\n",
       "      <th>14</th>\n",
       "      <td>2018</td>\n",
       "      <td>11446.0</td>\n",
       "      <td>AM</td>\n",
       "    </tr>\n",
       "    <tr>\n",
       "      <th>15</th>\n",
       "      <td>2019</td>\n",
       "      <td>12665.0</td>\n",
       "      <td>AM</td>\n",
       "    </tr>\n",
       "  </tbody>\n",
       "</table>\n",
       "</div>"
      ],
      "text/plain": [
       "    Ano/Estados  Qtd. Queimadas SIGLA\n",
       "0          2004          8083.0    AM\n",
       "1          2005         15644.0    AM\n",
       "2          2006         11697.0    AM\n",
       "3          2007         11293.0    AM\n",
       "4          2008          6701.0    AM\n",
       "5          2009          9280.0    AM\n",
       "6          2010         12139.0    AM\n",
       "7          2011          5028.0    AM\n",
       "8          2012          9114.0    AM\n",
       "9          2013          6512.0    AM\n",
       "10         2014          9008.0    AM\n",
       "11         2015         13419.0    AM\n",
       "12         2016         11173.0    AM\n",
       "13         2017         11685.0    AM\n",
       "14         2018         11446.0    AM\n",
       "15         2019         12665.0    AM"
      ]
     },
     "execution_count": 9,
     "metadata": {},
     "output_type": "execute_result"
    }
   ],
   "source": [
    "treinos_dados_AM"
   ]
  },
  {
   "cell_type": "code",
   "execution_count": 10,
   "metadata": {},
   "outputs": [],
   "source": [
    "#Dividir entre treino (2000 até 2010) e teste (2011 até 2019)\n",
    "treino = treinos_dados_AM.loc[treinos_dados_AM['Ano/Estados'] <= 2010]\n",
    "teste = treinos_dados_AM.loc[treinos_dados_AM['Ano/Estados'] > 2010]\n",
    "#treino = treinos_dados_AM.loc[[2004,2005,2006,2007,2008,2009,2010]]\n",
    "#teste = treinos_dados_AM.loc[[2010,2011,2012,2013,2014,2015,2016,2017,2018,2019]]\n"
   ]
  },
  {
   "cell_type": "code",
   "execution_count": null,
   "metadata": {},
   "outputs": [],
   "source": [
    "treino"
   ]
  },
  {
   "cell_type": "code",
   "execution_count": null,
   "metadata": {},
   "outputs": [],
   "source": [
    "teste"
   ]
  },
  {
   "cell_type": "code",
   "execution_count": 11,
   "metadata": {},
   "outputs": [
    {
     "name": "stdout",
     "output_type": "stream",
     "text": [
      "                Ano/Estados  Qtd. Queimadas\n",
      "Ano/Estados        1.000000       -0.144614\n",
      "Qtd. Queimadas    -0.144614        1.000000\n"
     ]
    }
   ],
   "source": [
    "#buscar correlações\n",
    "print(treino.corr())"
   ]
  },
  {
   "cell_type": "code",
   "execution_count": 12,
   "metadata": {},
   "outputs": [],
   "source": [
    "LE = LabelEncoder()"
   ]
  },
  {
   "cell_type": "code",
   "execution_count": 39,
   "metadata": {},
   "outputs": [],
   "source": [
    "#Dados de Treino\n",
    "#features    \n",
    "#x_train = treino.drop(['Ano/Estados'],axis=1)\n",
    "x_train = treino[{'Ano/Estados'}].copy()\n",
    "#variáveis resposta\n",
    "y_train = treino['Qtd. Queimadas'].copy()"
   ]
  },
  {
   "cell_type": "code",
   "execution_count": 41,
   "metadata": {},
   "outputs": [],
   "source": [
    "#x_train['SIGLA'] = LE.fit_transform(x_train['SIGLA'])\n",
    "#x_train['SIGLA'] = LE.fit_transform(x_train['SIGLA'].astype(str))"
   ]
  },
  {
   "cell_type": "code",
   "execution_count": 42,
   "metadata": {},
   "outputs": [
    {
     "data": {
      "text/html": [
       "<div>\n",
       "<style scoped>\n",
       "    .dataframe tbody tr th:only-of-type {\n",
       "        vertical-align: middle;\n",
       "    }\n",
       "\n",
       "    .dataframe tbody tr th {\n",
       "        vertical-align: top;\n",
       "    }\n",
       "\n",
       "    .dataframe thead th {\n",
       "        text-align: right;\n",
       "    }\n",
       "</style>\n",
       "<table border=\"1\" class=\"dataframe\">\n",
       "  <thead>\n",
       "    <tr style=\"text-align: right;\">\n",
       "      <th></th>\n",
       "      <th>Ano/Estados</th>\n",
       "    </tr>\n",
       "  </thead>\n",
       "  <tbody>\n",
       "    <tr>\n",
       "      <th>0</th>\n",
       "      <td>2004</td>\n",
       "    </tr>\n",
       "    <tr>\n",
       "      <th>1</th>\n",
       "      <td>2005</td>\n",
       "    </tr>\n",
       "    <tr>\n",
       "      <th>2</th>\n",
       "      <td>2006</td>\n",
       "    </tr>\n",
       "    <tr>\n",
       "      <th>3</th>\n",
       "      <td>2007</td>\n",
       "    </tr>\n",
       "    <tr>\n",
       "      <th>4</th>\n",
       "      <td>2008</td>\n",
       "    </tr>\n",
       "    <tr>\n",
       "      <th>5</th>\n",
       "      <td>2009</td>\n",
       "    </tr>\n",
       "    <tr>\n",
       "      <th>6</th>\n",
       "      <td>2010</td>\n",
       "    </tr>\n",
       "  </tbody>\n",
       "</table>\n",
       "</div>"
      ],
      "text/plain": [
       "   Ano/Estados\n",
       "0         2004\n",
       "1         2005\n",
       "2         2006\n",
       "3         2007\n",
       "4         2008\n",
       "5         2009\n",
       "6         2010"
      ]
     },
     "execution_count": 42,
     "metadata": {},
     "output_type": "execute_result"
    }
   ],
   "source": [
    "x_train"
   ]
  },
  {
   "cell_type": "code",
   "execution_count": 44,
   "metadata": {},
   "outputs": [],
   "source": [
    "#x_train = x_train[[\"Ano/Estados\", \"SIGLA\"]]"
   ]
  },
  {
   "cell_type": "code",
   "execution_count": 45,
   "metadata": {},
   "outputs": [
    {
     "data": {
      "text/plain": [
       "0     8083.0\n",
       "1    15644.0\n",
       "2    11697.0\n",
       "3    11293.0\n",
       "4     6701.0\n",
       "5     9280.0\n",
       "6    12139.0\n",
       "Name: Qtd. Queimadas, dtype: float64"
      ]
     },
     "execution_count": 45,
     "metadata": {},
     "output_type": "execute_result"
    }
   ],
   "source": [
    "y_train"
   ]
  },
  {
   "cell_type": "code",
   "execution_count": 46,
   "metadata": {},
   "outputs": [],
   "source": [
    "#Teste\n",
    "x_teste = teste['Qtd. Queimadas'].copy()"
   ]
  },
  {
   "cell_type": "code",
   "execution_count": 47,
   "metadata": {},
   "outputs": [
    {
     "data": {
      "text/plain": [
       "(7, 1)"
      ]
     },
     "execution_count": 47,
     "metadata": {},
     "output_type": "execute_result"
    }
   ],
   "source": [
    "x_train.shape"
   ]
  },
  {
   "cell_type": "code",
   "execution_count": 48,
   "metadata": {},
   "outputs": [
    {
     "data": {
      "text/plain": [
       "(7,)"
      ]
     },
     "execution_count": 48,
     "metadata": {},
     "output_type": "execute_result"
    }
   ],
   "source": [
    "y_train.shape"
   ]
  },
  {
   "cell_type": "code",
   "execution_count": 50,
   "metadata": {},
   "outputs": [
    {
     "data": {
      "text/plain": [
       "[<matplotlib.lines.Line2D at 0x2726ce8cc08>]"
      ]
     },
     "execution_count": 50,
     "metadata": {},
     "output_type": "execute_result"
    },
    {
     "data": {
      "image/png": "[encoded data removed]",
      "text/plain": [
       "<Figure size 432x288 with 1 Axes>"
      ]
     },
     "metadata": {
      "needs_background": "light"
     },
     "output_type": "display_data"
    }
   ],
   "source": [
    "plt.plot(x_train, y_train)"
   ]
  },
  {
   "cell_type": "code",
   "execution_count": 51,
   "metadata": {},
   "outputs": [
    {
     "data": {
      "text/plain": [
       "LinearRegression(copy_X=True, fit_intercept=True, n_jobs=None, normalize=True)"
      ]
     },
     "execution_count": 51,
     "metadata": {},
     "output_type": "execute_result"
    }
   ],
   "source": [
    "#Criar o modelo\n",
    "lin_reg = LinearRegression(normalize = True)\n",
    "lin_reg.fit(x_train,y_train)"
   ]
  },
  {
   "cell_type": "code",
   "execution_count": 52,
   "metadata": {},
   "outputs": [
    {
     "name": "stdout",
     "output_type": "stream",
     "text": [
      "0.020913353595681583\n"
     ]
    }
   ],
   "source": [
    "#Ver o score\n",
    "print(lin_reg.score(x_train,y_train))"
   ]
  }
 ],
 "metadata": {
  "kernelspec": {
   "display_name": "Python 3",
   "language": "python",
   "name": "python3"
  },
  "language_info": {
   "codemirror_mode": {
    "name": "ipython",
    "version": 3
   },
   "file_extension": ".py",
   "mimetype": "text/x-python",
   "name": "python",
   "nbconvert_exporter": "python",
   "pygments_lexer": "ipython3",
   "version": "3.7.6"
  }
 },
 "nbformat": 4,
 "nbformat_minor": 4
}
